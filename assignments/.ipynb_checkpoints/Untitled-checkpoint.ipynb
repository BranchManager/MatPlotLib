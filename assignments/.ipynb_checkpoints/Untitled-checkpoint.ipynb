{
 "cells": [
  {
   "cell_type": "code",
   "execution_count": 3,
   "id": "e073ccaf",
   "metadata": {},
   "outputs": [],
   "source": [
    "import requests\n",
    "import sys\n",
    "from selenium import webdriver as wd\n",
    "import time\n",
    "\n",
    "#print(sys.platform)\n",
    "if sys.platform == \"linux\":\n",
    "    PATH = \"/home/nbranch/Documents/MatPlotLib/chromedriver\"\n",
    "else:\n",
    "    PATH = \"/Users/noahbranch/Documents/CodeAndDev.nosync/Chrome_Driver/chromedriver\"\n",
    "\n",
    "URL=\"https://games.crossfit.com/leaderboard/open/2021\"\n",
    "\n",
    "driver = wd.Chrome(executable_path = PATH)\n",
    "\n",
    "driver.get(URL)\n",
    "\n",
    "time.sleep(10)\n",
    "\n",
    "#print(driver.page_source)\n",
    "#webpage = requests.get(URL)\n",
    "\n",
    "#print(webpage.text)"
   ]
  },
  {
   "cell_type": "code",
   "execution_count": null,
   "id": "2511ff1b",
   "metadata": {},
   "outputs": [],
   "source": []
  },
  {
   "cell_type": "code",
   "execution_count": null,
   "id": "b4bf558f",
   "metadata": {},
   "outputs": [],
   "source": []
  }
 ],
 "metadata": {
  "kernelspec": {
   "display_name": "Python 3",
   "language": "python",
   "name": "python3"
  },
  "language_info": {
   "codemirror_mode": {
    "name": "ipython",
    "version": 3
   },
   "file_extension": ".py",
   "mimetype": "text/x-python",
   "name": "python",
   "nbconvert_exporter": "python",
   "pygments_lexer": "ipython3",
   "version": "3.8.10"
  }
 },
 "nbformat": 4,
 "nbformat_minor": 5
}
