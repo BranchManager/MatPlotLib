{
 "cells": [
  {
   "cell_type": "markdown",
   "metadata": {},
   "source": [
    "# Assignment 3 - Building a Custom Visualization\n",
    "\n",
    "---\n",
    "\n",
    "In this assignment you must choose one of the options presented below and submit a visual as well as your source code for peer grading. The details of how you solve the assignment are up to you, although your assignment must use matplotlib so that your peers can evaluate your work. The options differ in challenge level, but there are no grades associated with the challenge level you chose. However, your peers will be asked to ensure you at least met a minimum quality for a given technique in order to pass. Implement the technique fully (or exceed it!) and you should be able to earn full grades for the assignment.\n",
    "\n",
    "\n",
    "&nbsp;&nbsp;&nbsp;&nbsp;&nbsp;&nbsp;Ferreira, N., Fisher, D., & Konig, A. C. (2014, April). [Sample-oriented task-driven visualizations: allowing users to make better, more confident decisions.](https://www.microsoft.com/en-us/research/wp-content/uploads/2016/02/Ferreira_Fisher_Sample_Oriented_Tasks.pdf) \n",
    "&nbsp;&nbsp;&nbsp;&nbsp;&nbsp;&nbsp;In Proceedings of the SIGCHI Conference on Human Factors in Computing Systems (pp. 571-580). ACM. ([video](https://www.youtube.com/watch?v=BI7GAs-va-Q))\n",
    "\n",
    "\n",
    "In this [paper](https://www.microsoft.com/en-us/research/wp-content/uploads/2016/02/Ferreira_Fisher_Sample_Oriented_Tasks.pdf) the authors describe the challenges users face when trying to make judgements about probabilistic data generated through samples. As an example, they look at a bar chart of four years of data (replicated below in Figure 1). Each year has a y-axis value, which is derived from a sample of a larger dataset. For instance, the first value might be the number votes in a given district or riding for 1992, with the average being around 33,000. On top of this is plotted the 95% confidence interval for the mean (see the boxplot lectures for more information, and the yerr parameter of barcharts).\n",
    "\n",
    "<br>\n",
    "<img src=\"Assignment3Fig1.png\" alt=\"Figure 1\" style=\"width: 400px;\"/>\n",
    "<h4 style=\"text-align: center;\" markdown=\"1\">  &nbsp;&nbsp;&nbsp;&nbsp;&nbsp;&nbsp;&nbsp;&nbsp;Figure 1 from (Ferreira et al, 2014).</h4>\n",
    "\n",
    "<br>\n",
    "\n",
    "A challenge that users face is that, for a given y-axis value (e.g. 42,000), it is difficult to know which x-axis values are most likely to be representative, because the confidence levels overlap and their distributions are different (the lengths of the confidence interval bars are unequal). One of the solutions the authors propose for this problem (Figure 2c) is to allow users to indicate the y-axis value of interest (e.g. 42,000) and then draw a horizontal line and color bars based on this value. So bars might be colored red if they are definitely above this value (given the confidence interval), blue if they are definitely below this value, or white if they contain this value.\n",
    "\n",
    "\n",
    "<br>\n",
    "<img src=\"readonly/Assignment3Fig2c.png\" alt=\"Figure 1\" style=\"width: 400px;\"/>\n",
    "<h4 style=\"text-align: center;\" markdown=\"1\">  Figure 2c from (Ferreira et al. 2014). Note that the colorbar legend at the bottom as well as the arrows are not required in the assignment descriptions below.</h4>\n",
    "\n",
    "<br>\n",
    "<br>\n",
    "\n",
    "**Easiest option:** Implement the bar coloring as described above - a color scale with only three colors, (e.g. blue, white, and red). Assume the user provides the y axis value of interest as a parameter or variable.\n",
    "\n",
    "\n",
    "**Harder option:** Implement the bar coloring as described in the paper, where the color of the bar is actually based on the amount of data covered (e.g. a gradient ranging from dark blue for the distribution being certainly below this y-axis, to white if the value is certainly contained, to dark red if the value is certainly not contained as the distribution is above the axis).\n",
    "\n",
    "**Even Harder option:** Add interactivity to the above, which allows the user to click on the y axis to set the value of interest. The bar colors should change with respect to what value the user has selected.\n",
    "\n",
    "**Hardest option:** Allow the user to interactively set a range of y values they are interested in, and recolor based on this (e.g. a y-axis band, see the paper for more details).\n",
    "\n",
    "---\n",
    "\n",
    "*Note: The data given for this assignment is not the same as the data used in the article and as a result the visualizations may look a little different.*"
   ]
  },
  {
   "cell_type": "code",
   "execution_count": 71,
   "metadata": {
    "scrolled": true
   },
   "outputs": [
    {
     "name": "stdout",
     "output_type": "stream",
     "text": [
      "Int64Index([1992, 1993, 1994, 1995], dtype='int64')\n",
      "[6508.89796997 3192.25431369 4553.90228709 2263.85174431]\n",
      "Rectangle(xy=(1991.6, 0), width=0.8, height=33312.1, angle=0) Rectangle(xy=(1992.6, 0), width=0.8, height=41861.9, angle=0) Rectangle(xy=(1993.6, 0), width=0.8, height=39493.3, angle=0) Rectangle(xy=(1994.6, 0), width=0.8, height=47743.6, angle=0)\n",
      "6508.897969970325\n",
      "3192.2543136890313\n",
      "4553.902287088243\n",
      "2263.8517443103765\n"
     ]
    },
    {
     "data": {
      "text/plain": [
       "<matplotlib.lines.Line2D at 0x137801fd0>"
      ]
     },
     "execution_count": 71,
     "metadata": {},
     "output_type": "execute_result"
    },
    {
     "data": {
      "image/png": "[encoded data removed]",
      "text/plain": [
       "<Figure size 432x288 with 1 Axes>"
      ]
     },
     "metadata": {
      "needs_background": "light"
     },
     "output_type": "display_data"
    }
   ],
   "source": [
    "# Use the following data for this assignment:\n",
    "\n",
    "import pandas as pd\n",
    "import numpy as np\n",
    "import matplotlib.pyplot as plt\n",
    "import scipy.stats as st\n",
    "\n",
    "np.random.seed(12345)\n",
    "\n",
    "df = pd.DataFrame([np.random.normal(32000,200000,3650), \n",
    "                   np.random.normal(43000,100000,3650), \n",
    "                   np.random.normal(43500,140000,3650), \n",
    "                   np.random.normal(48000,70000,3650)], \n",
    "                  index=[1992,1993,1994,1995])\n",
    "\n",
    "print(df.index)\n",
    "plt.figure()\n",
    "\n",
    "\n",
    "#df_std = df.std(axis=1)/np.sqrt(df.shape[1])\n",
    "\n",
    "\n",
    "#print(df.size())\n",
    "#plt.bar(df.index[0],df[0])\n",
    "conf1=[]\n",
    "\n",
    "\n",
    "# I start with transposing the data. to get for columns corresponding to the years. \n",
    "#It was easier to work with this way for me\n",
    "df=df.transpose()\n",
    "\n",
    "#then since we are working witht he a confidence interval ( which im still not sure wha the significance of that is)\n",
    "# we get the standard error and multiply by 1.96\n",
    "std_err = df.sem(axis=0).values*1.96\n",
    "\n",
    "#next I plot the bargraph using the std_err to plot the error \n",
    "#I set a limit on the y axis to 0. some of the values were lower than that but I assume they were not needed.\n",
    "fig = plt.bar(df.keys(),df_mean,yerr=std_err,bottom=0,capsize=7)\n",
    "\n",
    "plt.ylim(0)\n",
    "\n",
    "#next I iterate over each bar and set a color for it based on its height and std_err\n",
    "# You can see if the bar and wiskers are above 42000 then the bar is red\n",
    "#if they are below then the bare is blue\n",
    "#if we subtract and add the std err and it happens to be both below and above the line respectively\n",
    "#then we color itgrey \n",
    "plt.gca().axhline(420000,color=\"grey\")\n",
    "for i in range(0,len(list(fig.get_children()))):\n",
    "    #print(i)\n",
    "    height = fig.get_children()[i].get_height()\n",
    "    print(std_err[i])\n",
    "    if(height + std_err[i] < 42000):\n",
    "        fig.get_children()[i].set_color('blue')\n",
    "    if(height - std_err[i] > 42000):\n",
    "        fig.get_children()[i].set_color('red')\n",
    "    if((height + std_err[i] < 42000) & (height - std_err[i] > 42000)):\n",
    "        fig.get_children()[i].set_color('grey')\n",
    "plt.axhline(42000,color=\"grey\")\n",
    "\n",
    "\n",
    "#plt.bar(df.keys()[1],df[1993],bottom=0)\n",
    "#plt.bar(df.keys()[2],df[1994],bottom=0)\n",
    "#plt.bar(df.keys()[3],df[1995],bottom=0)\n",
    "\n",
    "\n",
    "#print(conf1)\n",
    "#print(df[1992].min())\n",
    "\n",
    "\n"
   ]
  },
  {
   "cell_type": "code",
   "execution_count": null,
   "metadata": {},
   "outputs": [],
   "source": []
  },
  {
   "cell_type": "code",
   "execution_count": null,
   "metadata": {},
   "outputs": [],
   "source": []
  }
 ],
 "metadata": {
  "kernelspec": {
   "display_name": "Python 3",
   "language": "python",
   "name": "python3"
  },
  "language_info": {
   "codemirror_mode": {
    "name": "ipython",
    "version": 3
   },
   "file_extension": ".py",
   "mimetype": "text/x-python",
   "name": "python",
   "nbconvert_exporter": "python",
   "pygments_lexer": "ipython3",
   "version": "3.7.5"
  }
 },
 "nbformat": 4,
 "nbformat_minor": 2
}
