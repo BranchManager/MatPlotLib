{
 "cells": [
  {
   "cell_type": "markdown",
   "metadata": {},
   "source": [
    "---\n",
    "\n",
    "_You are currently looking at **version 1.1** of this notebook. To download notebooks and datafiles, as well as get help on Jupyter notebooks in the Coursera platform, visit the [Jupyter Notebook FAQ](https://www.coursera.org/learn/python-text-mining/resources/d9pwm) course resource._\n",
    "\n",
    "---"
   ]
  },
  {
   "cell_type": "markdown",
   "metadata": {},
   "source": [
    "# Assignment 3\n",
    "\n",
    "In this assignment you will explore text message data and create models to predict if a message is spam or not. "
   ]
  },
  {
   "cell_type": "code",
   "execution_count": 1,
   "metadata": {},
   "outputs": [
    {
     "data": {
      "text/html": [
       "<div>\n",
       "<style scoped>\n",
       "    .dataframe tbody tr th:only-of-type {\n",
       "        vertical-align: middle;\n",
       "    }\n",
       "\n",
       "    .dataframe tbody tr th {\n",
       "        vertical-align: top;\n",
       "    }\n",
       "\n",
       "    .dataframe thead th {\n",
       "        text-align: right;\n",
       "    }\n",
       "</style>\n",
       "<table border=\"1\" class=\"dataframe\">\n",
       "  <thead>\n",
       "    <tr style=\"text-align: right;\">\n",
       "      <th></th>\n",
       "      <th>text</th>\n",
       "      <th>target</th>\n",
       "    </tr>\n",
       "  </thead>\n",
       "  <tbody>\n",
       "    <tr>\n",
       "      <th>0</th>\n",
       "      <td>Go until jurong point, crazy.. Available only ...</td>\n",
       "      <td>0</td>\n",
       "    </tr>\n",
       "    <tr>\n",
       "      <th>1</th>\n",
       "      <td>Ok lar... Joking wif u oni...</td>\n",
       "      <td>0</td>\n",
       "    </tr>\n",
       "    <tr>\n",
       "      <th>2</th>\n",
       "      <td>Free entry in 2 a wkly comp to win FA Cup fina...</td>\n",
       "      <td>1</td>\n",
       "    </tr>\n",
       "    <tr>\n",
       "      <th>3</th>\n",
       "      <td>U dun say so early hor... U c already then say...</td>\n",
       "      <td>0</td>\n",
       "    </tr>\n",
       "    <tr>\n",
       "      <th>4</th>\n",
       "      <td>Nah I don't think he goes to usf, he lives aro...</td>\n",
       "      <td>0</td>\n",
       "    </tr>\n",
       "    <tr>\n",
       "      <th>5</th>\n",
       "      <td>FreeMsg Hey there darling it's been 3 week's n...</td>\n",
       "      <td>1</td>\n",
       "    </tr>\n",
       "    <tr>\n",
       "      <th>6</th>\n",
       "      <td>Even my brother is not like to speak with me. ...</td>\n",
       "      <td>0</td>\n",
       "    </tr>\n",
       "    <tr>\n",
       "      <th>7</th>\n",
       "      <td>As per your request 'Melle Melle (Oru Minnamin...</td>\n",
       "      <td>0</td>\n",
       "    </tr>\n",
       "    <tr>\n",
       "      <th>8</th>\n",
       "      <td>WINNER!! As a valued network customer you have...</td>\n",
       "      <td>1</td>\n",
       "    </tr>\n",
       "    <tr>\n",
       "      <th>9</th>\n",
       "      <td>Had your mobile 11 months or more? U R entitle...</td>\n",
       "      <td>1</td>\n",
       "    </tr>\n",
       "  </tbody>\n",
       "</table>\n",
       "</div>"
      ],
      "text/plain": [
       "                                                text  target\n",
       "0  Go until jurong point, crazy.. Available only ...       0\n",
       "1                      Ok lar... Joking wif u oni...       0\n",
       "2  Free entry in 2 a wkly comp to win FA Cup fina...       1\n",
       "3  U dun say so early hor... U c already then say...       0\n",
       "4  Nah I don't think he goes to usf, he lives aro...       0\n",
       "5  FreeMsg Hey there darling it's been 3 week's n...       1\n",
       "6  Even my brother is not like to speak with me. ...       0\n",
       "7  As per your request 'Melle Melle (Oru Minnamin...       0\n",
       "8  WINNER!! As a valued network customer you have...       1\n",
       "9  Had your mobile 11 months or more? U R entitle...       1"
      ]
     },
     "execution_count": 1,
     "metadata": {},
     "output_type": "execute_result"
    }
   ],
   "source": [
    "import pandas as pd\n",
    "import numpy as np\n",
    "\n",
    "spam_data = pd.read_csv('spam.csv')\n",
    "\n",
    "spam_data['target'] = np.where(spam_data['target']=='spam',1,0)\n",
    "spam_data.head(10)"
   ]
  },
  {
   "cell_type": "code",
   "execution_count": 150,
   "metadata": {},
   "outputs": [
    {
     "name": "stdout",
     "output_type": "stream",
     "text": [
      "Go until jurong point, crazy.. Available only in bugis n great world la e buffet... Cine there got amore wat...\n"
     ]
    }
   ],
   "source": [
    "from sklearn.model_selection import train_test_split\n",
    "\n",
    "\n",
    "X_train, X_test, y_train, y_test = train_test_split(spam_data['text'], \n",
    "                                                    spam_data['target'], \n",
    "                                                    random_state=0)\n",
    "print(X_train[0])"
   ]
  },
  {
   "cell_type": "markdown",
   "metadata": {},
   "source": [
    "### Question 1\n",
    "What percentage of the documents in `spam_data` are spam?\n",
    "\n",
    "*This function should return a float, the percent value (i.e. $ratio * 100$).*"
   ]
  },
  {
   "cell_type": "code",
   "execution_count": 22,
   "metadata": {},
   "outputs": [
    {
     "data": {
      "text/plain": [
       "'This is a sample dataframe question. I just have to take the '"
      ]
     },
     "execution_count": 22,
     "metadata": {},
     "output_type": "execute_result"
    }
   ],
   "source": [
    "def answer_one():\n",
    "    count_spam = spam_data[spam_data['target']==1].count()\n",
    "    count_real = spam_data[spam_data['target']==0].count()\n",
    "    \n",
    "    percentage = count_spam/(count_real+count_spam)\n",
    "    \n",
    "    return percentage*100#Your answer here\n",
    "'''This is a sample dataframe question. \n",
    "I just have to take the counts where the spam target is one and counts from where the spam target\n",
    "is 0, get the total and divide the spam_count by the total. Please be sure to use PEDMAS correctly. \n",
    "I fucked that up and that screwed up my outcome.'''"
   ]
  },
  {
   "cell_type": "code",
   "execution_count": 23,
   "metadata": {},
   "outputs": [
    {
     "name": "stdout",
     "output_type": "stream",
     "text": [
      "text      747\n",
      "target    747\n",
      "dtype: int64\n",
      "text      4825\n",
      "target    4825\n",
      "dtype: int64\n",
      "text      5572\n",
      "target    5572\n",
      "dtype: int64\n",
      "the percentage is\n",
      "text      0.134063\n",
      "target    0.134063\n",
      "dtype: float64\n"
     ]
    },
    {
     "data": {
      "text/plain": [
       "text      0.134063\n",
       "target    0.134063\n",
       "dtype: float64"
      ]
     },
     "execution_count": 23,
     "metadata": {},
     "output_type": "execute_result"
    }
   ],
   "source": [
    "answer_one()"
   ]
  },
  {
   "cell_type": "markdown",
   "metadata": {},
   "source": [
    "### Question 2\n",
    "\n",
    "Fit the training data `X_train` using a Count Vectorizer with default parameters.\n",
    "\n",
    "What is the longest token in the vocabulary?\n",
    "\n",
    "*This function should return a string.*"
   ]
  },
  {
   "cell_type": "code",
   "execution_count": 46,
   "metadata": {},
   "outputs": [
    {
     "data": {
      "text/plain": [
       "'Question two practically describes what this is. AFter we train the vectorizer and grab the tokens,\\nWe go through each token'"
      ]
     },
     "execution_count": 46,
     "metadata": {},
     "output_type": "execute_result"
    }
   ],
   "source": [
    "from sklearn.feature_extraction.text import CountVectorizer\n",
    "import operator\n",
    "\n",
    "def answer_two():\n",
    "    tes = CountVectorizer() #Create a Vectorizer and train it\n",
    "    vect = CountVectorizer().fit(X_train)\n",
    "    names = vect.get_feature_names() #from my understanding this gets the tokens\n",
    "    \n",
    "    print(sorted([(token,len(token)) for token in names],key=operator.itemgetter(1),reverse=True)[0][0])\n",
    "    return #Your answer here\n",
    "'''Question two practically describes what this is. AFter we train the vectorizer and grab the tokens,\n",
    "We go through each token and create a list of tuples. Thats what the for loop is doing.\n",
    "Each tuple in the list will contain the a token and the list of len of the token.\n",
    "We can put that list in the sorted funciton based on itemgetter(1) for the length, and set the reverse \n",
    "tag to True in order to get the longest token.'''"
   ]
  },
  {
   "cell_type": "code",
   "execution_count": 47,
   "metadata": {},
   "outputs": [
    {
     "name": "stdout",
     "output_type": "stream",
     "text": [
      "32\n"
     ]
    }
   ],
   "source": [
    "answer_two()"
   ]
  },
  {
   "cell_type": "markdown",
   "metadata": {},
   "source": [
    "### Question 3\n",
    "\n",
    "Fit and transform the training data `X_train` using a Count Vectorizer with default parameters.\n",
    "\n",
    "Next, fit a fit a multinomial Naive Bayes classifier model with smoothing `alpha=0.1`. Find the area under the curve (AUC) score using the transformed test data.\n",
    "\n",
    "*This function should return the AUC score as a float.*"
   ]
  },
  {
   "cell_type": "code",
   "execution_count": 62,
   "metadata": {},
   "outputs": [],
   "source": [
    "from sklearn.naive_bayes import MultinomialNB\n",
    "from sklearn.metrics import roc_auc_score\n",
    "\n",
    "def answer_three():\n",
    "    vect = CountVectorizer().fit(X_train)\n",
    "    X_train_vectorized = vect.transform(X_train)\n",
    "    \n",
    "    model = MultinomialNB(alpha=0.1)\n",
    "    model.fit(X_train_vectorized, y_train)\n",
    "    \n",
    "    predictions = model.predict(vect.transform(X_test))\n",
    "\n",
    "    print('AUC: ', roc_auc_score(y_test, predictions))\n",
    "    return #Your answer here"
   ]
  },
  {
   "cell_type": "code",
   "execution_count": 63,
   "metadata": {},
   "outputs": [
    {
     "name": "stdout",
     "output_type": "stream",
     "text": [
      "AUC:  0.9720812182741116\n"
     ]
    }
   ],
   "source": [
    "answer_three()"
   ]
  },
  {
   "cell_type": "markdown",
   "metadata": {},
   "source": [
    "### Question 4\n",
    "\n",
    "Fit and transform the training data `X_train` using a Tfidf Vectorizer with default parameters.\n",
    "\n",
    "What 20 features have the smallest tf-idf and what 20 have the largest tf-idf?\n",
    "\n",
    "Put these features in a two series where each series is sorted by tf-idf value and then alphabetically by feature name. The index of the series should be the feature name, and the data should be the tf-idf.\n",
    "\n",
    "The series of 20 features with smallest tf-idfs should be sorted smallest tfidf first, the list of 20 features with largest tf-idfs should be sorted largest first. \n",
    "\n",
    "*This function should return a tuple of two series\n",
    "`(smallest tf-idfs series, largest tf-idfs series)`.*"
   ]
  },
  {
   "cell_type": "code",
   "execution_count": 195,
   "metadata": {},
   "outputs": [
    {
     "name": "stdout",
     "output_type": "stream",
     "text": [
      "TfidfVectorizer()\n",
      "[6305 3196  689 ... 3293 3180  274]\n",
      "Smallest tfidf:\n",
      "['sympathetic' 'healer' 'aaniye' 'dependable' 'companion' 'listener'\n",
      " 'athletic' 'exterminator' 'psychiatrist' 'pest' 'determined' 'chef'\n",
      " 'courageous' 'stylist' 'psychologist' 'organizer' 'pudunga' 'venaam'\n",
      " 'diwali' 'mornings']\n",
      "\n",
      "this is an element in the series 0.23731415804600856\n",
      "This is an index for that series\n",
      "Largest tfidf: \n",
      "['146tf150p' 'havent' 'home' 'okie' 'thanx' 'er' 'anything' 'lei' 'nite'\n",
      " 'yup' 'thank' 'ok' 'where' 'beerage' 'anytime' 'too' 'done' '645' 'tick']\n",
      "sympathetic     0.074475\n",
      "healer          0.074475\n",
      "aaniye          0.074475\n",
      "dependable      0.074475\n",
      "companion       0.074475\n",
      "listener        0.074475\n",
      "athletic        0.074475\n",
      "exterminator    0.074475\n",
      "psychiatrist    0.074475\n",
      "pest            0.074475\n",
      "determined      0.074475\n",
      "chef            0.074475\n",
      "courageous      0.074475\n",
      "stylist         0.074475\n",
      "psychologist    0.074475\n",
      "organizer       0.074475\n",
      "pudunga         0.074475\n",
      "venaam          0.074475\n",
      "diwali          0.091250\n",
      "mornings        0.091250\n",
      "dtype: float64\n"
     ]
    },
    {
     "data": {
      "text/plain": [
       "'This Question had me fairly confused. First I thought I needed to pass an argument to the TfidfVectorizer \\nfunction even though it says use default parameters, Then I didn\\'t know wha to do for the 3rd part of the \\nquesiton. They said put the features into \"a two series\". \\nI didnt know what that was and couldnt really find it online\\nso I thought maybe thet meant \"two series\".\\nThey go on to say that We need one sorted alphabetically and one sorted by tfidf. \\nSo Im thinking the two sets of 20 tfidfs need to be in the same series which didnt make\\nany sense to me.\\n\\n\\nMost of this section is just a straight copy from the notes. After we fit and transform the data\\nwe create an array for the feature names. And then this is where I pretty much got stuck. I didnt\\nknow what the next two lines did. It was all on one line originally. \\nBasically the first of the two lines just gets the tfidf for each feature. I can barley tell you \\nwhat eac part of that line does though. The next line sorts the tfidfs based on their indicies.'"
      ]
     },
     "execution_count": 195,
     "metadata": {},
     "output_type": "execute_result"
    }
   ],
   "source": [
    "from sklearn.feature_extraction.text import TfidfVectorizer\n",
    "\n",
    "def answer_four():\n",
    "    vect = TfidfVectorizer().fit(X_train) \n",
    "    transformed = vect.fit_transform(X_train)\n",
    "    #feature_names = vect.get_feature_names()\n",
    "    \n",
    "    feature_names = np.array(vect.get_feature_names())\n",
    "    tfidf_index = transformed.max(0).toarray()[0]#.argsort()\n",
    "    sorted_tfidf_index = tfidf_index.argsort()\n",
    "    #df = pd.DataFrame(transformed.toarray(),columns = names).head(20)\n",
    "    #print(names)\n",
    "   \n",
    "    l1=[]\n",
    "    in1 = []\n",
    "    l2=[]\n",
    "    in2=[]\n",
    "   \n",
    "    for i in sorted_tfidf_index[:20]:\n",
    "        freq=transformed.max(0).toarray()[0][i]\n",
    "        l1.append(freq)\n",
    "        in1.append(feature_names[i])\n",
    "    for i in sorted_tfidf_index[:-20:-1]:\n",
    "        freq2=transformed.max(0).toarray()[0][i]\n",
    "        l2.append(freq2)\n",
    "        in2.append(feature_names[i])\n",
    "   \n",
    "    s2 = pd.Series(l2,index=in2)\n",
    "    s1 = pd.Series(l1,index=in1)\n",
    "    print(s1)\n",
    "   \n",
    "\n",
    "    return (s1,s2) #Your answer here\n",
    "answer_four()\n",
    "'''\n",
    "Most of this section is just a straight copy from the notes. After we fit and transform the data\n",
    "we create an array for the feature names. And then this is where I pretty much got stuck. I didnt\n",
    "know what the next two lines did(10,11). It was all on one line originally. \n",
    "Basically the the two lines just gets the tfidf for each feature. I can barley tell you \n",
    "what each part of that line does though. The next line sorts the tfidfs based on their indicies.\n",
    "Then I create two for loops to create 2 different series. I was originally trying to use \n",
    "Series.append to append Each index and entry but I couldnt get that to work Soooo\n",
    "I just appened to a list in each for loop then use those lists to create the series.'''"
   ]
  },
  {
   "cell_type": "code",
   "execution_count": 134,
   "metadata": {},
   "outputs": [
    {
     "name": "stdout",
     "output_type": "stream",
     "text": [
      "1.0\n"
     ]
    }
   ],
   "source": []
  },
  {
   "cell_type": "markdown",
   "metadata": {},
   "source": [
    "### Question 5\n",
    "\n",
    "Fit and transform the training data `X_train` using a Tfidf Vectorizer ignoring terms that have a document frequency strictly lower than **3**.\n",
    "\n",
    "Then fit a multinomial Naive Bayes classifier model with smoothing `alpha=0.1` and compute the area under the curve (AUC) score using the transformed test data.\n",
    "\n",
    "*This function should return the AUC score as a float.*"
   ]
  },
  {
   "cell_type": "code",
   "execution_count": 202,
   "metadata": {},
   "outputs": [
    {
     "data": {
      "text/plain": [
       "'This one operates similarly to the 2nd and 3rd questions. Just train a model and run predictions.\\nSince we want'"
      ]
     },
     "execution_count": 202,
     "metadata": {},
     "output_type": "execute_result"
    }
   ],
   "source": [
    "def answer_five():\n",
    "    vect = TfidfVectorizer(min_df=3).fit(X_train) \n",
    "    transformed = vect.fit_transform(X_train)\n",
    "    \n",
    "    model = MultinomialNB(alpha=0.1)\n",
    "    model.fit(transformed, y_train)\n",
    "    \n",
    "    predictions = model.predict(vect.transform(X_test))\n",
    "\n",
    "    print('AUC: ', roc_auc_score(y_test, predictions))\n",
    "    return #Your answer here\n",
    "\n",
    "'''This one operates similarly to the 2nd and 3rd questions. Just train a model and run predictions.\n",
    "Since we want terms that appear in 3 or more documents we use the min_df argument and set it to 3.'''"
   ]
  },
  {
   "cell_type": "code",
   "execution_count": 203,
   "metadata": {},
   "outputs": [
    {
     "name": "stdout",
     "output_type": "stream",
     "text": [
      "AUC:  0.9416243654822335\n"
     ]
    }
   ],
   "source": [
    "answer_five()"
   ]
  },
  {
   "cell_type": "markdown",
   "metadata": {},
   "source": [
    "### Question 6\n",
    "\n",
    "What is the average length of documents (number of characters) for not spam and spam documents?\n",
    "\n",
    "*This function should return a tuple (average length not spam, average length spam).*"
   ]
  },
  {
   "cell_type": "code",
   "execution_count": 218,
   "metadata": {},
   "outputs": [],
   "source": [
    "def answer_six():\n",
    "    \n",
    "    spam_data['Chars']=spam_data['text'].str.len()\n",
    "    spam_mean = spam_data[spam_data['target']==1].mean()\n",
    "    non_spam_mean = spam_data[spam_data['target']==0].mean()\n",
    "    print(spam_mean)\n",
    "    print(non_spam_mean)\n",
    "    \n",
    "    return (non_spam_mean, spam_mean)#Your answer here\n",
    "'''This is just simple data gathering. I pretty much jsut do some dataframe minipulaiton here.\n",
    "If youve taken the first part of this specialization this should be pretty simple.'''"
   ]
  },
  {
   "cell_type": "code",
   "execution_count": 219,
   "metadata": {},
   "outputs": [
    {
     "name": "stdout",
     "output_type": "stream",
     "text": [
      "target      1.000000\n",
      "Chars     138.866131\n",
      "dtype: float64\n",
      "target     0.000000\n",
      "Chars     71.023627\n",
      "dtype: float64\n"
     ]
    }
   ],
   "source": [
    "answer_six()"
   ]
  },
  {
   "cell_type": "markdown",
   "metadata": {},
   "source": [
    "<br>\n",
    "<br>\n",
    "The following function has been provided to help you combine new features into the training data:"
   ]
  },
  {
   "cell_type": "code",
   "execution_count": 220,
   "metadata": {},
   "outputs": [],
   "source": [
    "def add_feature(X, feature_to_add):\n",
    "    \"\"\"\n",
    "    Returns sparse feature matrix with added feature.\n",
    "    feature_to_add can also be a list of features.\n",
    "    \"\"\"\n",
    "    from scipy.sparse import csr_matrix, hstack\n",
    "    return hstack([X, csr_matrix(feature_to_add).T], 'csr')"
   ]
  },
  {
   "cell_type": "markdown",
   "metadata": {},
   "source": [
    "### Question 7\n",
    "\n",
    "Fit and transform the training data X_train using a Tfidf Vectorizer ignoring terms that have a document frequency strictly lower than **5**.\n",
    "\n",
    "Using this document-term matrix and an additional feature, **the length of document (number of characters)**, fit a Support Vector Classification model with regularization `C=10000`. Then compute the area under the curve (AUC) score using the transformed test data.\n",
    "\n",
    "*This function should return the AUC score as a float.*"
   ]
  },
  {
   "cell_type": "code",
   "execution_count": 234,
   "metadata": {},
   "outputs": [
    {
     "name": "stdout",
     "output_type": "stream",
     "text": [
      "AUC:  0.9661689557407943\n"
     ]
    }
   ],
   "source": [
    "from sklearn.svm import SVC\n",
    "\n",
    "def answer_seven():\n",
    "    LOD=X_train.str.len()\n",
    "    \n",
    "    vect = TfidfVectorizer(min_df=5).fit(X_train) #Fit the data and transform\n",
    "    transformed = vect.fit_transform(X_train)\n",
    "    \n",
    "    added = add_feature(transformed,LOD) #Add a feature\n",
    "    svc = SVC(C=10000).fit(added,y_train) #fit data to support vector machine\n",
    "    \n",
    "    LOD=X_test.str.len() #repeat  fit and transform process for Test dat\n",
    "    added_test = add_feature(vect.transform(X_test),LOD)\n",
    "    predictions = svc.predict(added_test)\n",
    "    print('AUC: ', roc_auc_score(y_test, predictions))\n",
    "    return #Your answer here\n",
    "answer_seven()\n",
    "'''As with most of them this one threw me for a loop too cuase I wasn't \n",
    "quite sure how to use the funciton. It just came down to me under standing that \n",
    "I needed to add a feature to the test data too in order to run my predictions properly. '''"
   ]
  },
  {
   "cell_type": "code",
   "execution_count": null,
   "metadata": {
    "collapsed": true
   },
   "outputs": [],
   "source": []
  },
  {
   "cell_type": "markdown",
   "metadata": {},
   "source": [
    "### Question 8\n",
    "\n",
    "What is the average number of digits per document for not spam and spam documents?\n",
    "\n",
    "*This function should return a tuple (average # digits not spam, average # digits spam).*"
   ]
  },
  {
   "cell_type": "code",
   "execution_count": 235,
   "metadata": {},
   "outputs": [
    {
     "name": "stdout",
     "output_type": "stream",
     "text": [
      "target      1.000000\n",
      "Chars     138.866131\n",
      "digits     15.759036\n",
      "dtype: float64\n",
      "target     0.000000\n",
      "Chars     71.023627\n",
      "digits     0.299275\n",
      "dtype: float64\n"
     ]
    }
   ],
   "source": [
    "def answer_eight():\n",
    "    spam_data['digits']=spam_data['text'].str.count('\\d')\n",
    "    spam_mean = spam_data[spam_data['target']==1].mean()\n",
    "    non_spam_mean = spam_data[spam_data['target']==0].mean()\n",
    "    print(spam_mean)\n",
    "    print(non_spam_mean)\n",
    "    \n",
    "    \n",
    "    return #Your answer here\n",
    "answer_eight()\n",
    "'''This is pretty much the same as question 6 just with digits. The solution is quite simple. \n",
    "I used more of a regex approach.'''"
   ]
  },
  {
   "cell_type": "code",
   "execution_count": null,
   "metadata": {
    "collapsed": true
   },
   "outputs": [],
   "source": []
  },
  {
   "cell_type": "markdown",
   "metadata": {},
   "source": [
    "### Question 9\n",
    "\n",
    "Fit and transform the training data `X_train` using a Tfidf Vectorizer ignoring terms that have a document frequency strictly lower than **5** and using **word n-grams from n=1 to n=3** (unigrams, bigrams, and trigrams).\n",
    "\n",
    "Using this document-term matrix and the following additional features:\n",
    "* the length of document (number of characters)\n",
    "* **number of digits per document**\n",
    "\n",
    "fit a Logistic Regression model with regularization `C=100`. Then compute the area under the curve (AUC) score using the transformed test data.\n",
    "\n",
    "*This function should return the AUC score as a float.*"
   ]
  },
  {
   "cell_type": "code",
   "execution_count": 281,
   "metadata": {},
   "outputs": [
    {
     "name": "stdout",
     "output_type": "stream",
     "text": [
      "AUC:  0.9759031798040846\n"
     ]
    },
    {
     "name": "stderr",
     "output_type": "stream",
     "text": [
      "/usr/local/lib/python3.7/site-packages/sklearn/linear_model/_logistic.py:764: ConvergenceWarning: lbfgs failed to converge (status=1):\n",
      "STOP: TOTAL NO. of ITERATIONS REACHED LIMIT.\n",
      "\n",
      "Increase the number of iterations (max_iter) or scale the data as shown in:\n",
      "    https://scikit-learn.org/stable/modules/preprocessing.html\n",
      "Please also refer to the documentation for alternative solver options:\n",
      "    https://scikit-learn.org/stable/modules/linear_model.html#logistic-regression\n",
      "  extra_warning_msg=_LOGISTIC_SOLVER_CONVERGENCE_MSG)\n"
     ]
    },
    {
     "data": {
      "text/plain": [
       "'After geting the number of characters and number of digits per document\\nIt just a combination of the last few questions. Although once I run this I get a warning \\nthat I tried to get rid of by doing what it says. I have alrea'"
      ]
     },
     "execution_count": 281,
     "metadata": {},
     "output_type": "execute_result"
    }
   ],
   "source": [
    "from sklearn.linear_model import LogisticRegression\n",
    "from sklearn.preprocessing import MinMaxScaler\n",
    "\n",
    "def answer_nine():\n",
    "    LOD=X_train.str.len()\n",
    "    NOD=X_train.str.count('\\d')\n",
    "    \n",
    "    #scaler = MinMaxScaler()\n",
    "    scaler = MinMaxScaler()\n",
    "    \n",
    "    vect = TfidfVectorizer(min_df=5, ngram_range=(1,3)).fit(X_train)\n",
    "    transformed = vect.fit_transform(X_train)\n",
    "    \n",
    "    added1 = add_feature(transformed,LOD)\n",
    "    added2 = add_feature(added1,NOD)\n",
    "   # added21 = scaler.fit_transform(added2)\n",
    "    #vect.fit_transform(addes2)\n",
    "    model=LogisticRegression(C=100).fit(added2, y_train)\n",
    "\n",
    "    LODT=X_test.str.len()\n",
    "    NODT=X_test.str.count('\\d')\n",
    "    transformedT = vect.transform(X_test)\n",
    "    added1 = add_feature(transformedT,LODT)\n",
    "    added2 = add_feature(added1,NODT)\n",
    "    \n",
    "    predictions = model.predict(added2)\n",
    "    print('AUC: ', roc_auc_score(y_test, predictions))\n",
    "    return #Your answer here'''\n",
    "answer_nine()\n",
    "\n",
    "'''After geting the number of characters and number of digits per document\n",
    "It just a combination of the last few questions. Although once I run this I get a warning \n",
    "that I tried to get rid of by doing what it says. You either use some type of scaler \n",
    "or increase the Max iterations. However since the instructions didnt really \n",
    "mention to use any of them I just left the warning be. I was also having some minor issues\n",
    "getting the scalers to work properly with a high enough AUC score.'''"
   ]
  },
  {
   "cell_type": "code",
   "execution_count": null,
   "metadata": {
    "collapsed": true
   },
   "outputs": [],
   "source": []
  },
  {
   "cell_type": "markdown",
   "metadata": {},
   "source": [
    "### Question 10\n",
    "\n",
    "What is the average number of non-word characters (anything other than a letter, digit or underscore) per document for not spam and spam documents?\n",
    "\n",
    "*Hint: Use `\\w` and `\\W` character classes*\n",
    "\n",
    "*This function should return a tuple (average # non-word characters not spam, average # non-word characters spam).*"
   ]
  },
  {
   "cell_type": "code",
   "execution_count": 284,
   "metadata": {},
   "outputs": [],
   "source": [
    "def answer_ten():\n",
    "    spam_data['Non-chars']=spam_data['text'].str.count('\\w')\n",
    "    spam_mean = spam_data[spam_data['target']==1].mean()\n",
    "    non_spam_mean = spam_data[spam_data['target']==0].mean()\n",
    "    print(spam_mean)\n",
    "    print(non_spam_mean)\n",
    "    \n",
    "    return #Your answer here\n",
    "''' Just a repeat of the previous quesiton assuming \\w does what we need it to do.'''"
   ]
  },
  {
   "cell_type": "code",
   "execution_count": 285,
   "metadata": {},
   "outputs": [
    {
     "name": "stdout",
     "output_type": "stream",
     "text": [
      "target         1.000000\n",
      "Chars        138.866131\n",
      "digits        15.759036\n",
      "Non-chars    109.824632\n",
      "dtype: float64\n",
      "target        0.000000\n",
      "Chars        71.023627\n",
      "digits        0.299275\n",
      "Non-chars    53.731813\n",
      "dtype: float64\n"
     ]
    }
   ],
   "source": [
    "answer_ten()"
   ]
  },
  {
   "cell_type": "markdown",
   "metadata": {},
   "source": [
    "### Question 11\n",
    "\n",
    "Fit and transform the training data X_train using a Count Vectorizer ignoring terms that have a document frequency strictly lower than **5** and using **character n-grams from n=2 to n=5.**\n",
    "\n",
    "To tell Count Vectorizer to use character n-grams pass in `analyzer='char_wb'` which creates character n-grams only from text inside word boundaries. This should make the model more robust to spelling mistakes.\n",
    "\n",
    "Using this document-term matrix and the following additional features:\n",
    "* the length of document (number of characters)\n",
    "* number of digits per document\n",
    "* **number of non-word characters (anything other than a letter, digit or underscore.)**\n",
    "\n",
    "fit a Logistic Regression model with regularization C=100. Then compute the area under the curve (AUC) score using the transformed test data.\n",
    "\n",
    "Also **find the 10 smallest and 10 largest coefficients from the model** and return them along with the AUC score in a tuple.\n",
    "\n",
    "The list of 10 smallest coefficients should be sorted smallest first, the list of 10 largest coefficients should be sorted largest first.\n",
    "\n",
    "The three features that were added to the document term matrix should have the following names should they appear in the list of coefficients:\n",
    "['length_of_doc', 'digit_count', 'non_word_char_count']\n",
    "\n",
    "*This function should return a tuple `(AUC score as a float, smallest coefs list, largest coefs list)`.*"
   ]
  },
  {
   "cell_type": "code",
   "execution_count": 308,
   "metadata": {},
   "outputs": [
    {
     "name": "stderr",
     "output_type": "stream",
     "text": [
      "/usr/local/lib/python3.7/site-packages/sklearn/linear_model/_logistic.py:764: ConvergenceWarning: lbfgs failed to converge (status=1):\n",
      "STOP: TOTAL NO. of ITERATIONS REACHED LIMIT.\n",
      "\n",
      "Increase the number of iterations (max_iter) or scale the data as shown in:\n",
      "    https://scikit-learn.org/stable/modules/preprocessing.html\n",
      "Please also refer to the documentation for alternative solver options:\n",
      "    https://scikit-learn.org/stable/modules/linear_model.html#logistic-regression\n",
      "  extra_warning_msg=_LOGISTIC_SOLVER_CONVERGENCE_MSG)\n"
     ]
    },
    {
     "name": "stdout",
     "output_type": "stream",
     "text": [
      "AUC:  0.9793070811333887\n",
      "16317\n",
      "Smallest Coefs:\n",
      "['..' '. ' ' i' ' go' 'ok' '? ' '...' ' ok' 'go' '.. ']\n",
      "\n",
      "[16315 15949 15855  6160 10911   288  5158  3118  7748 15074]\n",
      "ERROT?\n",
      "Largest Coefs: \n",
      "['digit_count' 'xt' 'ww' 'co' 'ne' ' a ' 'ar' '**' 'ex' 'uk']\n"
     ]
    }
   ],
   "source": [
    "def answer_eleven():\n",
    "    LOD=X_train.str.len()\n",
    "    NOD=X_train.str.count('\\d')\n",
    "    NONW=X_train.str.count('\\w')\n",
    "    \n",
    "    vect = CountVectorizer(min_df=5, ngram_range=(2,5),analyzer='char_wb').fit(X_train)\n",
    "    transformed = vect.fit_transform(X_train)\n",
    "    \n",
    "    added1 = add_feature(transformed,LOD)\n",
    "    added2 = add_feature(added1,NOD)\n",
    "    added3 = add_feature(added2,NONW)\n",
    "    \n",
    "    model=LogisticRegression(C=100).fit(added3, y_train)\n",
    "\n",
    "    LODT=X_test.str.len()\n",
    "    NODT=X_test.str.count('\\d')\n",
    "    NONWT=X_test.str.count('\\w')\n",
    "    transformedT = vect.transform(X_test)\n",
    "    added1 = add_feature(transformedT,LODT)\n",
    "    added2 = add_feature(added1,NODT)\n",
    "    added3T = add_feature(added2,NONWT)\n",
    "    \n",
    "    predictions = model.predict(added3T)\n",
    "    print('AUC: ', roc_auc_score(y_test, predictions))\n",
    "    \n",
    "    feature_names = np.array(vect.get_feature_names()+['length_of_doc', 'digit_count', 'non_word_char_count'])\n",
    "    print(len(feature_names))\n",
    "    \n",
    "    sorted_coef_index = model.coef_[0].argsort()\n",
    "\n",
    "    print('Smallest Coefs:\\n{}\\n'.format(feature_names[sorted_coef_index[:10]]))\n",
    "    rev = sorted_coef_index[::-1]\n",
    "    print(rev[:10])\n",
    "    print(\"ERROT?\")\n",
    "    print('Largest Coefs: \\n{}'.format(feature_names[sorted_coef_index[:-11:-1]]))\n",
    "    return #Your answer here\n",
    "answer_eleven()\n",
    "'''This is almost an exact repeat of number 10 combined with number 4. I didnt realize\n",
    "that the features we added were under feature names.That also affected how my coefficients were displayed. \n",
    "Aparently my features name list was too short compared to my coeficients until I added\n",
    "that list of feature names. So I had to look up how to throw that in there \n",
    "cause I wasn't quite sure at first.\n",
    "The laziness got the best of me and I did not add the correct return statment but the work is done.\n",
    "I just printed out to make sure I had done everything write and that pretty much does it for me.'''"
   ]
  },
  {
   "cell_type": "code",
   "execution_count": null,
   "metadata": {},
   "outputs": [],
   "source": []
  },
  {
   "cell_type": "code",
   "execution_count": null,
   "metadata": {},
   "outputs": [],
   "source": []
  },
  {
   "cell_type": "code",
   "execution_count": null,
   "metadata": {},
   "outputs": [],
   "source": []
  }
 ],
 "metadata": {
  "coursera": {
   "course_slug": "python-text-mining",
   "graded_item_id": "Pn19K",
   "launcher_item_id": "y1juS",
   "part_id": "ctlgo"
  },
  "kernelspec": {
   "display_name": "Python 3 (ipykernel)",
   "language": "python",
   "name": "python3"
  },
  "language_info": {
   "codemirror_mode": {
    "name": "ipython",
    "version": 3
   },
   "file_extension": ".py",
   "mimetype": "text/x-python",
   "name": "python",
   "nbconvert_exporter": "python",
   "pygments_lexer": "ipython3",
   "version": "3.8.10"
  }
 },
 "nbformat": 4,
 "nbformat_minor": 2
}
