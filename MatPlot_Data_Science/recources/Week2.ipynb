{
 "cells": [
  {
   "cell_type": "markdown",
   "metadata": {},
   "source": [
    "# Basic Plotting with matplotlib"
   ]
  },
  {
   "cell_type": "markdown",
   "metadata": {},
   "source": [
    "You can show matplotlib figures directly in the notebook by using the `%matplotlib notebook` and `%matplotlib inline` magic commands. \n",
    "\n",
    "`%matplotlib notebook` provides an interactive environment."
   ]
  },
  {
   "cell_type": "code",
   "execution_count": 1,
   "metadata": {},
   "outputs": [],
   "source": [
    "%matplotlib notebook"
   ]
  },
  {
   "cell_type": "code",
   "execution_count": 3,
   "metadata": {},
   "outputs": [
    {
     "data": {
      "text/plain": [
       "'module://ipykernel.pylab.backend_inline'"
      ]
     },
     "execution_count": 3,
     "metadata": {},
     "output_type": "execute_result"
    }
   ],
   "source": [
    "import matplotlib as mpl\n",
    "mpl.get_backend()"
   ]
  },
  {
   "cell_type": "code",
   "execution_count": 4,
   "metadata": {},
   "outputs": [],
   "source": [
    "import matplotlib.pyplot as plt\n",
    "#plt.plot? #this gives the docstring which is like documentation????"
   ]
  },
  {
   "cell_type": "code",
   "execution_count": 5,
   "metadata": {},
   "outputs": [
    {
     "data": {
      "text/plain": [
       "[<matplotlib.lines.Line2D at 0x117240ad0>]"
      ]
     },
     "execution_count": 5,
     "metadata": {},
     "output_type": "execute_result"
    },
    {
     "data": {
      "image/png": "[encoded data removed]",
      "text/plain": [
       "<Figure size 432x288 with 1 Axes>"
      ]
     },
     "metadata": {
      "needs_background": "light"
     },
     "output_type": "display_data"
    }
   ],
   "source": [
    "# because the default is the line style '-', \n",
    "# nothing will be shown if we only pass in one point (3,2)\n",
    "plt.plot(3, 2)"
   ]
  },
  {
   "cell_type": "code",
   "execution_count": 6,
   "metadata": {},
   "outputs": [
    {
     "data": {
      "text/plain": [
       "[<matplotlib.lines.Line2D at 0x11735ef90>]"
      ]
     },
     "execution_count": 6,
     "metadata": {},
     "output_type": "execute_result"
    },
    {
     "data": {
      "image/png": "[encoded data removed]",
      "text/plain": [
       "<Figure size 432x288 with 1 Axes>"
      ]
     },
     "metadata": {
      "needs_background": "light"
     },
     "output_type": "display_data"
    }
   ],
   "source": [
    "# we can pass in '.' to plt.plot to indicate that we want\n",
    "# the point (3,2) to be indicated with a marker '.'\n",
    "plt.plot(3, 2, '.')"
   ]
  },
  {
   "cell_type": "markdown",
   "metadata": {},
   "source": [
    "Let's see how to make a plot without using the scripting layer."
   ]
  },
  {
   "cell_type": "code",
   "execution_count": 7,
   "metadata": {},
   "outputs": [],
   "source": [
    "# First let's set the backend without using mpl.use() from the scripting layer\n",
    "from matplotlib.backends.backend_agg import FigureCanvasAgg\n",
    "from matplotlib.figure import Figure\n",
    "\n",
    "# create a new figure\n",
    "fig = Figure()\n",
    "\n",
    "# associate fig with the backend\n",
    "canvas = FigureCanvasAgg(fig)\n",
    "\n",
    "# add a subplot to the fig\n",
    "ax = fig.add_subplot(111)\n",
    "\n",
    "# plot the point (3,2)\n",
    "ax.plot(3, 2, '.')\n",
    "\n",
    "# save the figure to test.png\n",
    "canvas.print_png('test.png')"
   ]
  },
  {
   "cell_type": "markdown",
   "metadata": {},
   "source": [
    "We can use html cell magic to display the image."
   ]
  },
  {
   "cell_type": "code",
   "execution_count": 8,
   "metadata": {},
   "outputs": [
    {
     "data": {
      "text/html": [
       "<img src='test.png' />\n"
      ],
      "text/plain": [
       "<IPython.core.display.HTML object>"
      ]
     },
     "metadata": {},
     "output_type": "display_data"
    }
   ],
   "source": [
    "%%html\n",
    "<img src='test.png' />"
   ]
  },
  {
   "cell_type": "code",
   "execution_count": 9,
   "metadata": {},
   "outputs": [
    {
     "data": {
      "text/plain": [
       "(0.0, 6.0, 0.0, 10.0)"
      ]
     },
     "execution_count": 9,
     "metadata": {},
     "output_type": "execute_result"
    },
    {
     "data": {
      "image/png": "[encoded data removed]",
      "text/plain": [
       "<Figure size 432x288 with 1 Axes>"
      ]
     },
     "metadata": {
      "needs_background": "light"
     },
     "output_type": "display_data"
    }
   ],
   "source": [
    "# create a new figure\n",
    "plt.figure()\n",
    "\n",
    "# plot the point (3,2) using the circle marker\n",
    "plt.plot(3, 2, 'o')\n",
    "\n",
    "# get the current axes\n",
    "ax = plt.gca()\n",
    "\n",
    "# Set axis properties [xmin, xmax, ymin, ymax]\n",
    "ax.axis([0,6,0,10])"
   ]
  },
  {
   "cell_type": "code",
   "execution_count": 10,
   "metadata": {},
   "outputs": [
    {
     "data": {
      "text/plain": [
       "[<matplotlib.lines.Line2D at 0x1175110d0>]"
      ]
     },
     "execution_count": 10,
     "metadata": {},
     "output_type": "execute_result"
    },
    {
     "data": {
      "image/png": "[encoded data removed]",
      "text/plain": [
       "<Figure size 432x288 with 1 Axes>"
      ]
     },
     "metadata": {
      "needs_background": "light"
     },
     "output_type": "display_data"
    }
   ],
   "source": [
    "# create a new figure\n",
    "plt.figure()\n",
    "\n",
    "# plot the point (1.5, 1.5) using the circle marker\n",
    "plt.plot(1.5, 1.5, 'o')\n",
    "# plot the point (2, 2) using the circle marker\n",
    "plt.plot(2, 2, 'o')\n",
    "# plot the point (2.5, 2.5) using the circle marker\n",
    "plt.plot(2.5, 2.5, 'o')"
   ]
  },
  {
   "cell_type": "code",
   "execution_count": 11,
   "metadata": {},
   "outputs": [
    {
     "data": {
      "text/plain": [
       "[<matplotlib.spines.Spine at 0x117541a10>,\n",
       " <matplotlib.spines.Spine at 0x117548090>,\n",
       " <matplotlib.spines.Spine at 0x117548190>,\n",
       " <matplotlib.spines.Spine at 0x117548290>,\n",
       " <matplotlib.axis.XAxis at 0x117541e50>,\n",
       " <matplotlib.axis.YAxis at 0x117511350>,\n",
       " Text(0.5, 1.0, ''),\n",
       " Text(0.0, 1.0, ''),\n",
       " Text(1.0, 1.0, ''),\n",
       " <matplotlib.patches.Rectangle at 0x11755ea90>]"
      ]
     },
     "execution_count": 11,
     "metadata": {},
     "output_type": "execute_result"
    },
    {
     "data": {
      "image/png": "[encoded data removed]",
      "text/plain": [
       "<Figure size 432x288 with 1 Axes>"
      ]
     },
     "metadata": {
      "needs_background": "light"
     },
     "output_type": "display_data"
    }
   ],
   "source": [
    "# get current axes\n",
    "ax = plt.gca()\n",
    "# get all the child objects the axes contains\n",
    "ax.get_children()"
   ]
  },
  {
   "cell_type": "markdown",
   "metadata": {},
   "source": [
    "# Scatterplots"
   ]
  },
  {
   "cell_type": "code",
   "execution_count": 12,
   "metadata": {
    "scrolled": false
   },
   "outputs": [
    {
     "data": {
      "text/plain": [
       "<matplotlib.collections.PathCollection at 0x117511190>"
      ]
     },
     "execution_count": 12,
     "metadata": {},
     "output_type": "execute_result"
    },
    {
     "data": {
      "image/png": "[encoded data removed]",
      "text/plain": [
       "<Figure size 432x288 with 1 Axes>"
      ]
     },
     "metadata": {
      "needs_background": "light"
     },
     "output_type": "display_data"
    }
   ],
   "source": [
    "import numpy as np\n",
    "\n",
    "x = np.array([1,2,3,4,5,6,7,8])\n",
    "y = x\n",
    "\n",
    "plt.figure()\n",
    "plt.scatter(x, y) # similar to plt.plot(x, y, '.'), but the underlying child objects in the axes are not Line2D"
   ]
  },
  {
   "cell_type": "code",
   "execution_count": 13,
   "metadata": {},
   "outputs": [
    {
     "data": {
      "text/plain": [
       "<matplotlib.collections.PathCollection at 0x114b7d610>"
      ]
     },
     "execution_count": 13,
     "metadata": {},
     "output_type": "execute_result"
    },
    {
     "data": {
      "image/png": "[encoded data removed]",
      "text/plain": [
       "<Figure size 432x288 with 1 Axes>"
      ]
     },
     "metadata": {
      "needs_background": "light"
     },
     "output_type": "display_data"
    }
   ],
   "source": [
    "import numpy as np\n",
    "\n",
    "x = np.array([1,2,3,4,5,6,7,8])\n",
    "y = x\n",
    "\n",
    "# create a list of colors for each point to have\n",
    "# ['green', 'green', 'green', 'green', 'green', 'green', 'green', 'red']\n",
    "colors = ['green']*(len(x)-1)\n",
    "colors.append('red')\n",
    "\n",
    "plt.figure()\n",
    "\n",
    "# plot the point with size 100 and chosen colors\n",
    "plt.scatter(x, y, s=100, c=colors)"
   ]
  },
  {
   "cell_type": "code",
   "execution_count": 14,
   "metadata": {},
   "outputs": [
    {
     "name": "stdout",
     "output_type": "stream",
     "text": [
      "[(1, 6), (2, 7), (3, 8), (4, 9), (5, 10)]\n",
      "(1, 6) (2, 7) (3, 8) (4, 9) (5, 10)\n"
     ]
    }
   ],
   "source": [
    "# convert the two lists into a list of pairwise tuples\n",
    "zip_generator = zip([1,2,3,4,5], [6,7,8,9,10])\n",
    "\n",
    "print(list(zip_generator))\n",
    "# the above prints:\n",
    "# [(1, 6), (2, 7), (3, 8), (4, 9), (5, 10)]\n",
    "\n",
    "zip_generator = zip([1,2,3,4,5], [6,7,8,9,10])\n",
    "# The single star * unpacks a collection into positional arguments\n",
    "print(*zip_generator)\n",
    "# the above prints:\n",
    "# (1, 6) (2, 7) (3, 8) (4, 9) (5, 10)"
   ]
  },
  {
   "cell_type": "code",
   "execution_count": 15,
   "metadata": {},
   "outputs": [
    {
     "name": "stdout",
     "output_type": "stream",
     "text": [
      "[(1, 2, 3, 4, 5), (6, 7, 8, 9, 10)]\n",
      "(1, 2, 3, 4, 5)\n",
      "(6, 7, 8, 9, 10)\n"
     ]
    }
   ],
   "source": [
    "# use zip to convert 5 tuples with 2 elements each to 2 tuples with 5 elements each\n",
    "print(list(zip((1, 6), (2, 7), (3, 8), (4, 9), (5, 10))))\n",
    "# the above prints:\n",
    "# [(1, 2, 3, 4, 5), (6, 7, 8, 9, 10)]\n",
    "\n",
    "\n",
    "zip_generator = zip([1,2,3,4,5], [6,7,8,9,10])\n",
    "# let's turn the data back into 2 lists\n",
    "x, y = zip(*zip_generator) # This is like calling zip((1, 6), (2, 7), (3, 8), (4, 9), (5, 10))\n",
    "print(x)\n",
    "print(y)\n",
    "# the above prints:\n",
    "# (1, 2, 3, 4, 5)\n",
    "# (6, 7, 8, 9, 10)"
   ]
  },
  {
   "cell_type": "code",
   "execution_count": 16,
   "metadata": {},
   "outputs": [
    {
     "data": {
      "text/plain": [
       "<matplotlib.collections.PathCollection at 0x117719e90>"
      ]
     },
     "execution_count": 16,
     "metadata": {},
     "output_type": "execute_result"
    },
    {
     "data": {
      "image/png": "[encoded data removed]",
      "text/plain": [
       "<Figure size 432x288 with 1 Axes>"
      ]
     },
     "metadata": {
      "needs_background": "light"
     },
     "output_type": "display_data"
    }
   ],
   "source": [
    "plt.figure()\n",
    "# plot a data series 'Tall students' in red using the first two elements of x and y\n",
    "plt.scatter(x[:2], y[:2], s=100, c='red', label='Tall students')\n",
    "# plot a second data series 'Short students' in blue using the last three elements of x and y \n",
    "plt.scatter(x[2:], y[2:], s=100, c='blue', label='Short students')"
   ]
  },
  {
   "cell_type": "code",
   "execution_count": 17,
   "metadata": {},
   "outputs": [
    {
     "data": {
      "text/plain": [
       "Text(0.5, 1.0, 'Relationship between ball kicking and grades')"
      ]
     },
     "execution_count": 17,
     "metadata": {},
     "output_type": "execute_result"
    },
    {
     "data": {
      "image/png": "[encoded data removed]",
      "text/plain": [
       "<Figure size 432x288 with 1 Axes>"
      ]
     },
     "metadata": {
      "needs_background": "light"
     },
     "output_type": "display_data"
    }
   ],
   "source": [
    "# add a label to the x axis\n",
    "plt.xlabel('The number of times the child kicked a ball')\n",
    "# add a label to the y axis\n",
    "plt.ylabel('The grade of the student')\n",
    "# add a title\n",
    "plt.title('Relationship between ball kicking and grades')"
   ]
  },
  {
   "cell_type": "code",
   "execution_count": 18,
   "metadata": {},
   "outputs": [
    {
     "name": "stderr",
     "output_type": "stream",
     "text": [
      "No handles with labels found to put in legend.\n"
     ]
    },
    {
     "data": {
      "text/plain": [
       "<matplotlib.legend.Legend at 0x1174a6d10>"
      ]
     },
     "execution_count": 18,
     "metadata": {},
     "output_type": "execute_result"
    },
    {
     "data": {
      "image/png": "[encoded data removed]",
      "text/plain": [
       "<Figure size 432x288 with 1 Axes>"
      ]
     },
     "metadata": {
      "needs_background": "light"
     },
     "output_type": "display_data"
    }
   ],
   "source": [
    "# add a legend (uses the labels from plt.scatter)\n",
    "plt.legend()"
   ]
  },
  {
   "cell_type": "code",
   "execution_count": 19,
   "metadata": {},
   "outputs": [
    {
     "name": "stderr",
     "output_type": "stream",
     "text": [
      "No handles with labels found to put in legend.\n"
     ]
    },
    {
     "data": {
      "text/plain": [
       "<matplotlib.legend.Legend at 0x11781c450>"
      ]
     },
     "execution_count": 19,
     "metadata": {},
     "output_type": "execute_result"
    },
    {
     "data": {
      "image/png": "[encoded data removed]",
      "text/plain": [
       "<Figure size 432x288 with 1 Axes>"
      ]
     },
     "metadata": {
      "needs_background": "light"
     },
     "output_type": "display_data"
    }
   ],
   "source": [
    "# add the legend to loc=4 (the lower right hand corner), also gets rid of the frame and adds a title\n",
    "plt.legend(loc=4, frameon=False, title='Legend')"
   ]
  },
  {
   "cell_type": "code",
   "execution_count": 20,
   "metadata": {},
   "outputs": [
    {
     "data": {
      "text/plain": [
       "[<matplotlib.spines.Spine at 0x1178572d0>,\n",
       " <matplotlib.spines.Spine at 0x117857f10>,\n",
       " <matplotlib.spines.Spine at 0x117857f50>,\n",
       " <matplotlib.spines.Spine at 0x117857ed0>,\n",
       " <matplotlib.axis.XAxis at 0x117857790>,\n",
       " <matplotlib.axis.YAxis at 0x1178622d0>,\n",
       " Text(0.5, 1.0, ''),\n",
       " Text(0.0, 1.0, ''),\n",
       " Text(1.0, 1.0, ''),\n",
       " <matplotlib.patches.Rectangle at 0x117874850>]"
      ]
     },
     "execution_count": 20,
     "metadata": {},
     "output_type": "execute_result"
    },
    {
     "data": {
      "image/png": "[encoded data removed]",
      "text/plain": [
       "<Figure size 432x288 with 1 Axes>"
      ]
     },
     "metadata": {
      "needs_background": "light"
     },
     "output_type": "display_data"
    }
   ],
   "source": [
    "# get children from current axes (the legend is the second to last item in this list)\n",
    "plt.gca().get_children()"
   ]
  },
  {
   "cell_type": "code",
   "execution_count": 21,
   "metadata": {},
   "outputs": [
    {
     "data": {
      "image/png": "[encoded data removed]",
      "text/plain": [
       "<Figure size 432x288 with 1 Axes>"
      ]
     },
     "metadata": {
      "needs_background": "light"
     },
     "output_type": "display_data"
    }
   ],
   "source": [
    "# get the legend from the current axes\n",
    "legend = plt.gca().get_children()[-2]"
   ]
  },
  {
   "cell_type": "code",
   "execution_count": 22,
   "metadata": {},
   "outputs": [
    {
     "ename": "IndexError",
     "evalue": "list index out of range",
     "output_type": "error",
     "traceback": [
      "\u001b[0;31m---------------------------------------------------------------------------\u001b[0m",
      "\u001b[0;31mIndexError\u001b[0m                                Traceback (most recent call last)",
      "\u001b[0;32m<ipython-input-22-06380a03f01e>\u001b[0m in \u001b[0;36m<module>\u001b[0;34m\u001b[0m\n\u001b[1;32m      1\u001b[0m \u001b[0;31m# you can use get_children to navigate through the child artists\u001b[0m\u001b[0;34m\u001b[0m\u001b[0;34m\u001b[0m\u001b[0;34m\u001b[0m\u001b[0m\n\u001b[0;32m----> 2\u001b[0;31m \u001b[0mlegend\u001b[0m\u001b[0;34m.\u001b[0m\u001b[0mget_children\u001b[0m\u001b[0;34m(\u001b[0m\u001b[0;34m)\u001b[0m\u001b[0;34m[\u001b[0m\u001b[0;36m0\u001b[0m\u001b[0;34m]\u001b[0m\u001b[0;34m.\u001b[0m\u001b[0mget_children\u001b[0m\u001b[0;34m(\u001b[0m\u001b[0;34m)\u001b[0m\u001b[0;34m[\u001b[0m\u001b[0;36m1\u001b[0m\u001b[0;34m]\u001b[0m\u001b[0;34m.\u001b[0m\u001b[0mget_children\u001b[0m\u001b[0;34m(\u001b[0m\u001b[0;34m)\u001b[0m\u001b[0;34m[\u001b[0m\u001b[0;36m0\u001b[0m\u001b[0;34m]\u001b[0m\u001b[0;34m.\u001b[0m\u001b[0mget_children\u001b[0m\u001b[0;34m(\u001b[0m\u001b[0;34m)\u001b[0m\u001b[0;34m\u001b[0m\u001b[0;34m\u001b[0m\u001b[0m\n\u001b[0m",
      "\u001b[0;31mIndexError\u001b[0m: list index out of range"
     ]
    }
   ],
   "source": [
    "# you can use get_children to navigate through the child artists\n",
    "legend.get_children()[0].get_children()[1].get_children()[0].get_children()"
   ]
  },
  {
   "cell_type": "code",
   "execution_count": null,
   "metadata": {},
   "outputs": [],
   "source": [
    "# import the artist class from matplotlib\n",
    "from matplotlib.artist import Artist\n",
    "\n",
    "def rec_gc(art, depth=0):\n",
    "    if isinstance(art, Artist):\n",
    "        # increase the depth for pretty printing\n",
    "        print(\"  \" * depth + str(art))\n",
    "        for child in art.get_children():\n",
    "            rec_gc(child, depth+2)\n",
    "\n",
    "# Call this function on the legend artist to see what the legend is made up of\n",
    "rec_gc(plt.legend())"
   ]
  },
  {
   "cell_type": "markdown",
   "metadata": {},
   "source": [
    "# Line Plots"
   ]
  },
  {
   "cell_type": "code",
   "execution_count": 39,
   "metadata": {},
   "outputs": [
    {
     "data": {
      "text/plain": [
       "[<matplotlib.lines.Line2D at 0x119cda4d0>,\n",
       " <matplotlib.lines.Line2D at 0x119cda350>]"
      ]
     },
     "execution_count": 39,
     "metadata": {},
     "output_type": "execute_result"
    },
    {
     "data": {
      "image/png": "[encoded data removed]",
      "text/plain": [
       "<Figure size 432x288 with 1 Axes>"
      ]
     },
     "metadata": {
      "needs_background": "light"
     },
     "output_type": "display_data"
    }
   ],
   "source": [
    "import numpy as np\n",
    "\n",
    "linear_data = np.array([1,2,3,4,5,6,7,8])\n",
    "#notice that only the y value was given, it uses these as the y value too\n",
    "exponential_data = linear_data**2\n",
    "\n",
    "plt.figure()\n",
    "# plot the linear data and the exponential data\n",
    "plt.plot(linear_data, '-o', exponential_data, '-o')#-o flag is dots in this case"
   ]
  },
  {
   "cell_type": "code",
   "execution_count": 33,
   "metadata": {},
   "outputs": [
    {
     "data": {
      "text/plain": [
       "[<matplotlib.lines.Line2D at 0x119804050>]"
      ]
     },
     "execution_count": 33,
     "metadata": {},
     "output_type": "execute_result"
    },
    {
     "data": {
      "image/png": "[encoded data removed]",
      "text/plain": [
       "<Figure size 432x288 with 1 Axes>"
      ]
     },
     "metadata": {
      "needs_background": "light"
     },
     "output_type": "display_data"
    }
   ],
   "source": [
    "# plot another series with a dashed red line\n",
    "plt.plot([22,44,55], '--r')"
   ]
  },
  {
   "cell_type": "code",
   "execution_count": 34,
   "metadata": {},
   "outputs": [
    {
     "data": {
      "text/plain": [
       "<matplotlib.legend.Legend at 0x11982c290>"
      ]
     },
     "execution_count": 34,
     "metadata": {},
     "output_type": "execute_result"
    },
    {
     "data": {
      "image/png": "[encoded data removed]",
      "text/plain": [
       "<Figure size 432x288 with 1 Axes>"
      ]
     },
     "metadata": {
      "needs_background": "light"
     },
     "output_type": "display_data"
    }
   ],
   "source": [
    "plt.xlabel('Some data')\n",
    "plt.ylabel('Some other data')\n",
    "plt.title('A title')\n",
    "# add a legend with legend entries (because we didn't have labels when we plotted the data series)\n",
    "plt.legend(['Baseline', 'Competition', 'Us'])"
   ]
  },
  {
   "cell_type": "code",
   "execution_count": 35,
   "metadata": {},
   "outputs": [
    {
     "data": {
      "text/plain": [
       "<matplotlib.collections.PolyCollection at 0x1198f7890>"
      ]
     },
     "execution_count": 35,
     "metadata": {},
     "output_type": "execute_result"
    },
    {
     "data": {
      "image/png": "[encoded data removed]",
      "text/plain": [
       "<Figure size 432x288 with 1 Axes>"
      ]
     },
     "metadata": {
      "needs_background": "light"
     },
     "output_type": "display_data"
    }
   ],
   "source": [
    "# fill the area between the linear data and exponential data\n",
    "plt.gca().fill_between(range(len(linear_data)), \n",
    "                       linear_data, exponential_data, \n",
    "                       facecolor='blue', \n",
    "                       alpha=0.25)\n",
    "#first we get current axis object (plt.gca()), then indicate range of X values, then lower and uper bounds, then color, adm transparecncy values"
   ]
  },
  {
   "cell_type": "markdown",
   "metadata": {},
   "source": [
    "Let's try working with dates!"
   ]
  },
  {
   "cell_type": "code",
   "execution_count": 36,
   "metadata": {},
   "outputs": [
    {
     "name": "stderr",
     "output_type": "stream",
     "text": [
      "/Users/noahbranch/Documents/CodeAndDev.nosync/MachineLearning/MatPlotLib/MatPlotLib_virt/lib/python3.7/site-packages/pandas/plotting/_converter.py:129: FutureWarning: Using an implicitly registered datetime converter for a matplotlib plotting method. The converter was registered by pandas on import. Future versions of pandas will require you to explicitly register matplotlib converters.\n",
      "\n",
      "To register the converters:\n",
      "\t>>> from pandas.plotting import register_matplotlib_converters\n",
      "\t>>> register_matplotlib_converters()\n",
      "  warnings.warn(msg, FutureWarning)\n"
     ]
    },
    {
     "data": {
      "text/plain": [
       "[<matplotlib.lines.Line2D at 0x11997dc10>,\n",
       " <matplotlib.lines.Line2D at 0x11997da90>]"
      ]
     },
     "execution_count": 36,
     "metadata": {},
     "output_type": "execute_result"
    },
    {
     "data": {
      "image/png": "[encoded data removed]",
      "text/plain": [
       "<Figure size 432x288 with 1 Axes>"
      ]
     },
     "metadata": {
      "needs_background": "light"
     },
     "output_type": "display_data"
    }
   ],
   "source": [
    "plt.figure()\n",
    "\n",
    "observation_dates = np.arange('2017-01-01', '2017-01-09', dtype='datetime64[D]')\n",
    "\n",
    "plt.plot(observation_dates, linear_data, '-o',  observation_dates, exponential_data, '-o')"
   ]
  },
  {
   "cell_type": "markdown",
   "metadata": {},
   "source": [
    "Let's try using pandas"
   ]
  },
  {
   "cell_type": "code",
   "execution_count": 37,
   "metadata": {},
   "outputs": [
    {
     "ename": "RuntimeError",
     "evalue": "matplotlib does not support generators as input",
     "output_type": "error",
     "traceback": [
      "\u001b[0;31m---------------------------------------------------------------------------\u001b[0m",
      "\u001b[0;31mRuntimeError\u001b[0m                              Traceback (most recent call last)",
      "\u001b[0;32m<ipython-input-37-d8577b79c140>\u001b[0m in \u001b[0;36m<module>\u001b[0;34m\u001b[0m\n\u001b[1;32m      4\u001b[0m \u001b[0mobservation_dates\u001b[0m \u001b[0;34m=\u001b[0m \u001b[0mnp\u001b[0m\u001b[0;34m.\u001b[0m\u001b[0marange\u001b[0m\u001b[0;34m(\u001b[0m\u001b[0;34m'2017-01-01'\u001b[0m\u001b[0;34m,\u001b[0m \u001b[0;34m'2017-01-09'\u001b[0m\u001b[0;34m,\u001b[0m \u001b[0mdtype\u001b[0m\u001b[0;34m=\u001b[0m\u001b[0;34m'datetime64[D]'\u001b[0m\u001b[0;34m)\u001b[0m\u001b[0;34m\u001b[0m\u001b[0;34m\u001b[0m\u001b[0m\n\u001b[1;32m      5\u001b[0m \u001b[0mobservation_dates\u001b[0m \u001b[0;34m=\u001b[0m \u001b[0mmap\u001b[0m\u001b[0;34m(\u001b[0m\u001b[0mpd\u001b[0m\u001b[0;34m.\u001b[0m\u001b[0mto_datetime\u001b[0m\u001b[0;34m,\u001b[0m \u001b[0mobservation_dates\u001b[0m\u001b[0;34m)\u001b[0m \u001b[0;31m# trying to plot a map will result in an error\u001b[0m\u001b[0;34m\u001b[0m\u001b[0;34m\u001b[0m\u001b[0m\n\u001b[0;32m----> 6\u001b[0;31m \u001b[0mplt\u001b[0m\u001b[0;34m.\u001b[0m\u001b[0mplot\u001b[0m\u001b[0;34m(\u001b[0m\u001b[0mobservation_dates\u001b[0m\u001b[0;34m,\u001b[0m \u001b[0mlinear_data\u001b[0m\u001b[0;34m,\u001b[0m \u001b[0;34m'-o'\u001b[0m\u001b[0;34m,\u001b[0m  \u001b[0mobservation_dates\u001b[0m\u001b[0;34m,\u001b[0m \u001b[0mexponential_data\u001b[0m\u001b[0;34m,\u001b[0m \u001b[0;34m'-o'\u001b[0m\u001b[0;34m)\u001b[0m\u001b[0;34m\u001b[0m\u001b[0;34m\u001b[0m\u001b[0m\n\u001b[0m",
      "\u001b[0;32m~/Documents/CodeAndDev.nosync/MachineLearning/MatPlotLib/MatPlotLib_virt/lib/python3.7/site-packages/matplotlib/pyplot.py\u001b[0m in \u001b[0;36mplot\u001b[0;34m(scalex, scaley, data, *args, **kwargs)\u001b[0m\n\u001b[1;32m   3019\u001b[0m     return gca().plot(\n\u001b[1;32m   3020\u001b[0m         \u001b[0;34m*\u001b[0m\u001b[0margs\u001b[0m\u001b[0;34m,\u001b[0m \u001b[0mscalex\u001b[0m\u001b[0;34m=\u001b[0m\u001b[0mscalex\u001b[0m\u001b[0;34m,\u001b[0m \u001b[0mscaley\u001b[0m\u001b[0;34m=\u001b[0m\u001b[0mscaley\u001b[0m\u001b[0;34m,\u001b[0m\u001b[0;34m\u001b[0m\u001b[0;34m\u001b[0m\u001b[0m\n\u001b[0;32m-> 3021\u001b[0;31m         **({\"data\": data} if data is not None else {}), **kwargs)\n\u001b[0m\u001b[1;32m   3022\u001b[0m \u001b[0;34m\u001b[0m\u001b[0m\n\u001b[1;32m   3023\u001b[0m \u001b[0;34m\u001b[0m\u001b[0m\n",
      "\u001b[0;32m~/Documents/CodeAndDev.nosync/MachineLearning/MatPlotLib/MatPlotLib_virt/lib/python3.7/site-packages/matplotlib/axes/_axes.py\u001b[0m in \u001b[0;36mplot\u001b[0;34m(self, scalex, scaley, data, *args, **kwargs)\u001b[0m\n\u001b[1;32m   1603\u001b[0m         \"\"\"\n\u001b[1;32m   1604\u001b[0m         \u001b[0mkwargs\u001b[0m \u001b[0;34m=\u001b[0m \u001b[0mcbook\u001b[0m\u001b[0;34m.\u001b[0m\u001b[0mnormalize_kwargs\u001b[0m\u001b[0;34m(\u001b[0m\u001b[0mkwargs\u001b[0m\u001b[0;34m,\u001b[0m \u001b[0mmlines\u001b[0m\u001b[0;34m.\u001b[0m\u001b[0mLine2D\u001b[0m\u001b[0;34m)\u001b[0m\u001b[0;34m\u001b[0m\u001b[0;34m\u001b[0m\u001b[0m\n\u001b[0;32m-> 1605\u001b[0;31m         \u001b[0mlines\u001b[0m \u001b[0;34m=\u001b[0m \u001b[0;34m[\u001b[0m\u001b[0;34m*\u001b[0m\u001b[0mself\u001b[0m\u001b[0;34m.\u001b[0m\u001b[0m_get_lines\u001b[0m\u001b[0;34m(\u001b[0m\u001b[0;34m*\u001b[0m\u001b[0margs\u001b[0m\u001b[0;34m,\u001b[0m \u001b[0mdata\u001b[0m\u001b[0;34m=\u001b[0m\u001b[0mdata\u001b[0m\u001b[0;34m,\u001b[0m \u001b[0;34m**\u001b[0m\u001b[0mkwargs\u001b[0m\u001b[0;34m)\u001b[0m\u001b[0;34m]\u001b[0m\u001b[0;34m\u001b[0m\u001b[0;34m\u001b[0m\u001b[0m\n\u001b[0m\u001b[1;32m   1606\u001b[0m         \u001b[0;32mfor\u001b[0m \u001b[0mline\u001b[0m \u001b[0;32min\u001b[0m \u001b[0mlines\u001b[0m\u001b[0;34m:\u001b[0m\u001b[0;34m\u001b[0m\u001b[0;34m\u001b[0m\u001b[0m\n\u001b[1;32m   1607\u001b[0m             \u001b[0mself\u001b[0m\u001b[0;34m.\u001b[0m\u001b[0madd_line\u001b[0m\u001b[0;34m(\u001b[0m\u001b[0mline\u001b[0m\u001b[0;34m)\u001b[0m\u001b[0;34m\u001b[0m\u001b[0;34m\u001b[0m\u001b[0m\n",
      "\u001b[0;32m~/Documents/CodeAndDev.nosync/MachineLearning/MatPlotLib/MatPlotLib_virt/lib/python3.7/site-packages/matplotlib/axes/_base.py\u001b[0m in \u001b[0;36m__call__\u001b[0;34m(self, data, *args, **kwargs)\u001b[0m\n\u001b[1;32m    313\u001b[0m                 \u001b[0mthis\u001b[0m \u001b[0;34m+=\u001b[0m \u001b[0margs\u001b[0m\u001b[0;34m[\u001b[0m\u001b[0;36m0\u001b[0m\u001b[0;34m]\u001b[0m\u001b[0;34m,\u001b[0m\u001b[0;34m\u001b[0m\u001b[0;34m\u001b[0m\u001b[0m\n\u001b[1;32m    314\u001b[0m                 \u001b[0margs\u001b[0m \u001b[0;34m=\u001b[0m \u001b[0margs\u001b[0m\u001b[0;34m[\u001b[0m\u001b[0;36m1\u001b[0m\u001b[0;34m:\u001b[0m\u001b[0;34m]\u001b[0m\u001b[0;34m\u001b[0m\u001b[0;34m\u001b[0m\u001b[0m\n\u001b[0;32m--> 315\u001b[0;31m             \u001b[0;32myield\u001b[0m \u001b[0;32mfrom\u001b[0m \u001b[0mself\u001b[0m\u001b[0;34m.\u001b[0m\u001b[0m_plot_args\u001b[0m\u001b[0;34m(\u001b[0m\u001b[0mthis\u001b[0m\u001b[0;34m,\u001b[0m \u001b[0mkwargs\u001b[0m\u001b[0;34m)\u001b[0m\u001b[0;34m\u001b[0m\u001b[0;34m\u001b[0m\u001b[0m\n\u001b[0m\u001b[1;32m    316\u001b[0m \u001b[0;34m\u001b[0m\u001b[0m\n\u001b[1;32m    317\u001b[0m     \u001b[0;32mdef\u001b[0m \u001b[0mget_next_color\u001b[0m\u001b[0;34m(\u001b[0m\u001b[0mself\u001b[0m\u001b[0;34m)\u001b[0m\u001b[0;34m:\u001b[0m\u001b[0;34m\u001b[0m\u001b[0;34m\u001b[0m\u001b[0m\n",
      "\u001b[0;32m~/Documents/CodeAndDev.nosync/MachineLearning/MatPlotLib/MatPlotLib_virt/lib/python3.7/site-packages/matplotlib/axes/_base.py\u001b[0m in \u001b[0;36m_plot_args\u001b[0;34m(self, tup, kwargs, return_kwargs)\u001b[0m\n\u001b[1;32m    494\u001b[0m \u001b[0;34m\u001b[0m\u001b[0m\n\u001b[1;32m    495\u001b[0m         \u001b[0;32mif\u001b[0m \u001b[0mself\u001b[0m\u001b[0;34m.\u001b[0m\u001b[0maxes\u001b[0m\u001b[0;34m.\u001b[0m\u001b[0mxaxis\u001b[0m \u001b[0;32mis\u001b[0m \u001b[0;32mnot\u001b[0m \u001b[0;32mNone\u001b[0m\u001b[0;34m:\u001b[0m\u001b[0;34m\u001b[0m\u001b[0;34m\u001b[0m\u001b[0m\n\u001b[0;32m--> 496\u001b[0;31m             \u001b[0mself\u001b[0m\u001b[0;34m.\u001b[0m\u001b[0maxes\u001b[0m\u001b[0;34m.\u001b[0m\u001b[0mxaxis\u001b[0m\u001b[0;34m.\u001b[0m\u001b[0mupdate_units\u001b[0m\u001b[0;34m(\u001b[0m\u001b[0mx\u001b[0m\u001b[0;34m)\u001b[0m\u001b[0;34m\u001b[0m\u001b[0;34m\u001b[0m\u001b[0m\n\u001b[0m\u001b[1;32m    497\u001b[0m         \u001b[0;32mif\u001b[0m \u001b[0mself\u001b[0m\u001b[0;34m.\u001b[0m\u001b[0maxes\u001b[0m\u001b[0;34m.\u001b[0m\u001b[0myaxis\u001b[0m \u001b[0;32mis\u001b[0m \u001b[0;32mnot\u001b[0m \u001b[0;32mNone\u001b[0m\u001b[0;34m:\u001b[0m\u001b[0;34m\u001b[0m\u001b[0;34m\u001b[0m\u001b[0m\n\u001b[1;32m    498\u001b[0m             \u001b[0mself\u001b[0m\u001b[0;34m.\u001b[0m\u001b[0maxes\u001b[0m\u001b[0;34m.\u001b[0m\u001b[0myaxis\u001b[0m\u001b[0;34m.\u001b[0m\u001b[0mupdate_units\u001b[0m\u001b[0;34m(\u001b[0m\u001b[0my\u001b[0m\u001b[0;34m)\u001b[0m\u001b[0;34m\u001b[0m\u001b[0;34m\u001b[0m\u001b[0m\n",
      "\u001b[0;32m~/Documents/CodeAndDev.nosync/MachineLearning/MatPlotLib/MatPlotLib_virt/lib/python3.7/site-packages/matplotlib/axis.py\u001b[0m in \u001b[0;36mupdate_units\u001b[0;34m(self, data)\u001b[0m\n\u001b[1;32m   1435\u001b[0m         \u001b[0;32mif\u001b[0m \u001b[0;34m*\u001b[0m\u001b[0mdata\u001b[0m\u001b[0;34m*\u001b[0m \u001b[0;32mis\u001b[0m \u001b[0mregistered\u001b[0m \u001b[0;32mfor\u001b[0m \u001b[0munit\u001b[0m \u001b[0mconversion\u001b[0m\u001b[0;34m.\u001b[0m\u001b[0;34m\u001b[0m\u001b[0;34m\u001b[0m\u001b[0m\n\u001b[1;32m   1436\u001b[0m         \"\"\"\n\u001b[0;32m-> 1437\u001b[0;31m         \u001b[0mconverter\u001b[0m \u001b[0;34m=\u001b[0m \u001b[0mmunits\u001b[0m\u001b[0;34m.\u001b[0m\u001b[0mregistry\u001b[0m\u001b[0;34m.\u001b[0m\u001b[0mget_converter\u001b[0m\u001b[0;34m(\u001b[0m\u001b[0mdata\u001b[0m\u001b[0;34m)\u001b[0m\u001b[0;34m\u001b[0m\u001b[0;34m\u001b[0m\u001b[0m\n\u001b[0m\u001b[1;32m   1438\u001b[0m         \u001b[0;32mif\u001b[0m \u001b[0mconverter\u001b[0m \u001b[0;32mis\u001b[0m \u001b[0;32mNone\u001b[0m\u001b[0;34m:\u001b[0m\u001b[0;34m\u001b[0m\u001b[0;34m\u001b[0m\u001b[0m\n\u001b[1;32m   1439\u001b[0m             \u001b[0;32mreturn\u001b[0m \u001b[0;32mFalse\u001b[0m\u001b[0;34m\u001b[0m\u001b[0;34m\u001b[0m\u001b[0m\n",
      "\u001b[0;32m~/Documents/CodeAndDev.nosync/MachineLearning/MatPlotLib/MatPlotLib_virt/lib/python3.7/site-packages/matplotlib/units.py\u001b[0m in \u001b[0;36mget_converter\u001b[0;34m(self, x)\u001b[0m\n\u001b[1;32m    215\u001b[0m             \u001b[0;31m# which indexing returns instances of the same iterable class.\u001b[0m\u001b[0;34m\u001b[0m\u001b[0;34m\u001b[0m\u001b[0;34m\u001b[0m\u001b[0m\n\u001b[1;32m    216\u001b[0m             \u001b[0;32mif\u001b[0m \u001b[0mtype\u001b[0m\u001b[0;34m(\u001b[0m\u001b[0mfirst\u001b[0m\u001b[0;34m)\u001b[0m \u001b[0;32mis\u001b[0m \u001b[0;32mnot\u001b[0m \u001b[0mtype\u001b[0m\u001b[0;34m(\u001b[0m\u001b[0mx\u001b[0m\u001b[0;34m)\u001b[0m\u001b[0;34m:\u001b[0m\u001b[0;34m\u001b[0m\u001b[0;34m\u001b[0m\u001b[0m\n\u001b[0;32m--> 217\u001b[0;31m                 \u001b[0;32mreturn\u001b[0m \u001b[0mself\u001b[0m\u001b[0;34m.\u001b[0m\u001b[0mget_converter\u001b[0m\u001b[0;34m(\u001b[0m\u001b[0mfirst\u001b[0m\u001b[0;34m)\u001b[0m\u001b[0;34m\u001b[0m\u001b[0;34m\u001b[0m\u001b[0m\n\u001b[0m\u001b[1;32m    218\u001b[0m         \u001b[0;32mreturn\u001b[0m \u001b[0;32mNone\u001b[0m\u001b[0;34m\u001b[0m\u001b[0;34m\u001b[0m\u001b[0m\n\u001b[1;32m    219\u001b[0m \u001b[0;34m\u001b[0m\u001b[0m\n",
      "\u001b[0;32m~/Documents/CodeAndDev.nosync/MachineLearning/MatPlotLib/MatPlotLib_virt/lib/python3.7/site-packages/matplotlib/units.py\u001b[0m in \u001b[0;36mget_converter\u001b[0;34m(self, x)\u001b[0m\n\u001b[1;32m    208\u001b[0m                 \u001b[0;32mpass\u001b[0m\u001b[0;34m\u001b[0m\u001b[0;34m\u001b[0m\u001b[0m\n\u001b[1;32m    209\u001b[0m         \u001b[0;32mtry\u001b[0m\u001b[0;34m:\u001b[0m  \u001b[0;31m# If cache lookup fails, look up based on first element...\u001b[0m\u001b[0;34m\u001b[0m\u001b[0;34m\u001b[0m\u001b[0m\n\u001b[0;32m--> 210\u001b[0;31m             \u001b[0mfirst\u001b[0m \u001b[0;34m=\u001b[0m \u001b[0mcbook\u001b[0m\u001b[0;34m.\u001b[0m\u001b[0msafe_first_element\u001b[0m\u001b[0;34m(\u001b[0m\u001b[0mx\u001b[0m\u001b[0;34m)\u001b[0m\u001b[0;34m\u001b[0m\u001b[0;34m\u001b[0m\u001b[0m\n\u001b[0m\u001b[1;32m    211\u001b[0m         \u001b[0;32mexcept\u001b[0m \u001b[0;34m(\u001b[0m\u001b[0mTypeError\u001b[0m\u001b[0;34m,\u001b[0m \u001b[0mStopIteration\u001b[0m\u001b[0;34m)\u001b[0m\u001b[0;34m:\u001b[0m\u001b[0;34m\u001b[0m\u001b[0;34m\u001b[0m\u001b[0m\n\u001b[1;32m    212\u001b[0m             \u001b[0;32mpass\u001b[0m\u001b[0;34m\u001b[0m\u001b[0;34m\u001b[0m\u001b[0m\n",
      "\u001b[0;32m~/Documents/CodeAndDev.nosync/MachineLearning/MatPlotLib/MatPlotLib_virt/lib/python3.7/site-packages/matplotlib/cbook/__init__.py\u001b[0m in \u001b[0;36msafe_first_element\u001b[0;34m(obj)\u001b[0m\n\u001b[1;32m   1711\u001b[0m         \u001b[0;32mexcept\u001b[0m \u001b[0mTypeError\u001b[0m\u001b[0;34m:\u001b[0m\u001b[0;34m\u001b[0m\u001b[0;34m\u001b[0m\u001b[0m\n\u001b[1;32m   1712\u001b[0m             \u001b[0;32mpass\u001b[0m\u001b[0;34m\u001b[0m\u001b[0;34m\u001b[0m\u001b[0m\n\u001b[0;32m-> 1713\u001b[0;31m         raise RuntimeError(\"matplotlib does not support generators \"\n\u001b[0m\u001b[1;32m   1714\u001b[0m                            \"as input\")\n\u001b[1;32m   1715\u001b[0m     \u001b[0;32mreturn\u001b[0m \u001b[0mnext\u001b[0m\u001b[0;34m(\u001b[0m\u001b[0miter\u001b[0m\u001b[0;34m(\u001b[0m\u001b[0mobj\u001b[0m\u001b[0;34m)\u001b[0m\u001b[0;34m)\u001b[0m\u001b[0;34m\u001b[0m\u001b[0;34m\u001b[0m\u001b[0m\n",
      "\u001b[0;31mRuntimeError\u001b[0m: matplotlib does not support generators as input"
     ]
    },
    {
     "data": {
      "image/png": "[encoded data removed]",
      "text/plain": [
       "<Figure size 432x288 with 1 Axes>"
      ]
     },
     "metadata": {
      "needs_background": "light"
     },
     "output_type": "display_data"
    }
   ],
   "source": [
    "import pandas as pd\n",
    "\n",
    "plt.figure()\n",
    "observation_dates = np.arange('2017-01-01', '2017-01-09', dtype='datetime64[D]')\n",
    "observation_dates = map(pd.to_datetime, observation_dates) # trying to plot a map will result in an error\n",
    "plt.plot(observation_dates, linear_data, '-o',  observation_dates, exponential_data, '-o')"
   ]
  },
  {
   "cell_type": "code",
   "execution_count": 38,
   "metadata": {},
   "outputs": [
    {
     "data": {
      "text/plain": [
       "[<matplotlib.lines.Line2D at 0x119c41450>,\n",
       " <matplotlib.lines.Line2D at 0x119c55190>]"
      ]
     },
     "execution_count": 38,
     "metadata": {},
     "output_type": "execute_result"
    },
    {
     "data": {
      "image/png": "[encoded data removed]",
      "text/plain": [
       "<Figure size 432x288 with 1 Axes>"
      ]
     },
     "metadata": {
      "needs_background": "light"
     },
     "output_type": "display_data"
    }
   ],
   "source": [
    "#erroe because not in list format\n",
    "plt.figure()\n",
    "observation_dates = np.arange('2017-01-01', '2017-01-09', dtype='datetime64[D]')\n",
    "observation_dates = list(map(pd.to_datetime, observation_dates)) # convert the map to a list to get rid of the error\n",
    "plt.plot(observation_dates, linear_data, '-o',  observation_dates, exponential_data, '-o')"
   ]
  },
  {
   "cell_type": "code",
   "execution_count": null,
   "metadata": {},
   "outputs": [],
   "source": [
    "x = plt.gca().xaxis\n",
    "\n",
    "# rotate the tick labels for the x axis\n",
    "for item in x.get_ticklabels():\n",
    "    item.set_rotation(45)"
   ]
  },
  {
   "cell_type": "code",
   "execution_count": null,
   "metadata": {},
   "outputs": [],
   "source": [
    "# adjust the subplot so the text doesn't run off the image\n",
    "plt.subplots_adjust(bottom=0.25)"
   ]
  },
  {
   "cell_type": "code",
   "execution_count": 28,
   "metadata": {},
   "outputs": [
    {
     "data": {
      "text/plain": [
       "Text(0.5, 1.0, 'Exponential vs. Linear performance')"
      ]
     },
     "execution_count": 28,
     "metadata": {},
     "output_type": "execute_result"
    },
    {
     "data": {
      "image/png": "[encoded data removed]",
      "text/plain": [
       "<Figure size 432x288 with 1 Axes>"
      ]
     },
     "metadata": {
      "needs_background": "light"
     },
     "output_type": "display_data"
    }
   ],
   "source": [
    "ax = plt.gca()\n",
    "ax.set_xlabel('Date')\n",
    "ax.set_ylabel('Units')\n",
    "ax.set_title('Exponential vs. Linear performance')"
   ]
  },
  {
   "cell_type": "code",
   "execution_count": 29,
   "metadata": {},
   "outputs": [
    {
     "data": {
      "text/plain": [
       "Text(0.5, 1.0, 'Exponential ($x^2$) vs. Linear ($x$) performance')"
      ]
     },
     "execution_count": 29,
     "metadata": {},
     "output_type": "execute_result"
    }
   ],
   "source": [
    "# you can add mathematical expressions in any text element\n",
    "ax.set_title(\"Exponential ($x^2$) vs. Linear ($x$) performance\")"
   ]
  },
  {
   "cell_type": "markdown",
   "metadata": {},
   "source": [
    "# Bar Charts"
   ]
  },
  {
   "cell_type": "code",
   "execution_count": 40,
   "metadata": {},
   "outputs": [
    {
     "data": {
      "text/plain": [
       "<BarContainer object of 8 artists>"
      ]
     },
     "execution_count": 40,
     "metadata": {},
     "output_type": "execute_result"
    },
    {
     "data": {
      "image/png": "[encoded data removed]",
      "text/plain": [
       "<Figure size 432x288 with 1 Axes>"
      ]
     },
     "metadata": {
      "needs_background": "light"
     },
     "output_type": "display_data"
    }
   ],
   "source": [
    "plt.figure()\n",
    "xvals = range(len(linear_data))\n",
    "plt.bar(xvals, linear_data, width = 0.3)"
   ]
  },
  {
   "cell_type": "code",
   "execution_count": 41,
   "metadata": {},
   "outputs": [
    {
     "data": {
      "text/plain": [
       "<BarContainer object of 8 artists>"
      ]
     },
     "execution_count": 41,
     "metadata": {},
     "output_type": "execute_result"
    },
    {
     "data": {
      "image/png": "[encoded data removed]",
      "text/plain": [
       "<Figure size 432x288 with 1 Axes>"
      ]
     },
     "metadata": {
      "needs_background": "light"
     },
     "output_type": "display_data"
    }
   ],
   "source": [
    "new_xvals = []\n",
    "\n",
    "# plot another set of bars, adjusting the new xvals to make up for the first set of bars plotted\n",
    "for item in xvals:\n",
    "    new_xvals.append(item+0.3)\n",
    "\n",
    "plt.bar(new_xvals, exponential_data, width = 0.3 ,color='red')"
   ]
  },
  {
   "cell_type": "code",
   "execution_count": 42,
   "metadata": {
    "scrolled": true
   },
   "outputs": [
    {
     "name": "stdout",
     "output_type": "stream",
     "text": [
      "[2, 11, 5, 13, 4, 2, 2, 12]\n"
     ]
    },
    {
     "data": {
      "text/plain": [
       "<BarContainer object of 8 artists>"
      ]
     },
     "execution_count": 42,
     "metadata": {},
     "output_type": "execute_result"
    },
    {
     "data": {
      "image/png": "[encoded data removed]",
      "text/plain": [
       "<Figure size 432x288 with 1 Axes>"
      ]
     },
     "metadata": {
      "needs_background": "light"
     },
     "output_type": "display_data"
    }
   ],
   "source": [
    "from random import randint\n",
    "linear_err = [randint(0,15) for x in range(len(linear_data))] \n",
    "print(linear_err)\n",
    "# This will plot a new set of bars with errorbars using the list of random error values\n",
    "plt.bar(xvals, linear_data, width = 0.3, yerr=linear_err)"
   ]
  },
  {
   "cell_type": "code",
   "execution_count": 46,
   "metadata": {},
   "outputs": [
    {
     "data": {
      "application/javascript": [
       "/* Put everything inside the global mpl namespace */\n",
       "/* global mpl */\n",
       "window.mpl = {};\n",
       "\n",
       "mpl.get_websocket_type = function () {\n",
       "    if (typeof WebSocket !== 'undefined') {\n",
       "        return WebSocket;\n",
       "    } else if (typeof MozWebSocket !== 'undefined') {\n",
       "        return MozWebSocket;\n",
       "    } else {\n",
       "        alert(\n",
       "            'Your browser does not have WebSocket support. ' +\n",
       "                'Please try Chrome, Safari or Firefox ≥ 6. ' +\n",
       "                'Firefox 4 and 5 are also supported but you ' +\n",
       "                'have to enable WebSockets in about:config.'\n",
       "        );\n",
       "    }\n",
       "};\n",
       "\n",
       "mpl.figure = function (figure_id, websocket, ondownload, parent_element) {\n",
       "    this.id = figure_id;\n",
       "\n",
       "    this.ws = websocket;\n",
       "\n",
       "    this.supports_binary = this.ws.binaryType !== undefined;\n",
       "\n",
       "    if (!this.supports_binary) {\n",
       "        var warnings = document.getElementById('mpl-warnings');\n",
       "        if (warnings) {\n",
       "            warnings.style.display = 'block';\n",
       "            warnings.textContent =\n",
       "                'This browser does not support binary websocket messages. ' +\n",
       "                'Performance may be slow.';\n",
       "        }\n",
       "    }\n",
       "\n",
       "    this.imageObj = new Image();\n",
       "\n",
       "    this.context = undefined;\n",
       "    this.message = undefined;\n",
       "    this.canvas = undefined;\n",
       "    this.rubberband_canvas = undefined;\n",
       "    this.rubberband_context = undefined;\n",
       "    this.format_dropdown = undefined;\n",
       "\n",
       "    this.image_mode = 'full';\n",
       "\n",
       "    this.root = document.createElement('div');\n",
       "    this.root.setAttribute('style', 'display: inline-block');\n",
       "    this._root_extra_style(this.root);\n",
       "\n",
       "    parent_element.appendChild(this.root);\n",
       "\n",
       "    this._init_header(this);\n",
       "    this._init_canvas(this);\n",
       "    this._init_toolbar(this);\n",
       "\n",
       "    var fig = this;\n",
       "\n",
       "    this.waiting = false;\n",
       "\n",
       "    this.ws.onopen = function () {\n",
       "        fig.send_message('supports_binary', { value: fig.supports_binary });\n",
       "        fig.send_message('send_image_mode', {});\n",
       "        if (fig.ratio !== 1) {\n",
       "            fig.send_message('set_dpi_ratio', { dpi_ratio: fig.ratio });\n",
       "        }\n",
       "        fig.send_message('refresh', {});\n",
       "    };\n",
       "\n",
       "    this.imageObj.onload = function () {\n",
       "        if (fig.image_mode === 'full') {\n",
       "            // Full images could contain transparency (where diff images\n",
       "            // almost always do), so we need to clear the canvas so that\n",
       "            // there is no ghosting.\n",
       "            fig.context.clearRect(0, 0, fig.canvas.width, fig.canvas.height);\n",
       "        }\n",
       "        fig.context.drawImage(fig.imageObj, 0, 0);\n",
       "    };\n",
       "\n",
       "    this.imageObj.onunload = function () {\n",
       "        fig.ws.close();\n",
       "    };\n",
       "\n",
       "    this.ws.onmessage = this._make_on_message_function(this);\n",
       "\n",
       "    this.ondownload = ondownload;\n",
       "};\n",
       "\n",
       "mpl.figure.prototype._init_header = function () {\n",
       "    var titlebar = document.createElement('div');\n",
       "    titlebar.classList =\n",
       "        'ui-dialog-titlebar ui-widget-header ui-corner-all ui-helper-clearfix';\n",
       "    var titletext = document.createElement('div');\n",
       "    titletext.classList = 'ui-dialog-title';\n",
       "    titletext.setAttribute(\n",
       "        'style',\n",
       "        'width: 100%; text-align: center; padding: 3px;'\n",
       "    );\n",
       "    titlebar.appendChild(titletext);\n",
       "    this.root.appendChild(titlebar);\n",
       "    this.header = titletext;\n",
       "};\n",
       "\n",
       "mpl.figure.prototype._canvas_extra_style = function (_canvas_div) {};\n",
       "\n",
       "mpl.figure.prototype._root_extra_style = function (_canvas_div) {};\n",
       "\n",
       "mpl.figure.prototype._init_canvas = function () {\n",
       "    var fig = this;\n",
       "\n",
       "    var canvas_div = (this.canvas_div = document.createElement('div'));\n",
       "    canvas_div.setAttribute(\n",
       "        'style',\n",
       "        'border: 1px solid #ddd;' +\n",
       "            'box-sizing: content-box;' +\n",
       "            'clear: both;' +\n",
       "            'min-height: 1px;' +\n",
       "            'min-width: 1px;' +\n",
       "            'outline: 0;' +\n",
       "            'overflow: hidden;' +\n",
       "            'position: relative;' +\n",
       "            'resize: both;'\n",
       "    );\n",
       "\n",
       "    function on_keyboard_event_closure(name) {\n",
       "        return function (event) {\n",
       "            return fig.key_event(event, name);\n",
       "        };\n",
       "    }\n",
       "\n",
       "    canvas_div.addEventListener(\n",
       "        'keydown',\n",
       "        on_keyboard_event_closure('key_press')\n",
       "    );\n",
       "    canvas_div.addEventListener(\n",
       "        'keyup',\n",
       "        on_keyboard_event_closure('key_release')\n",
       "    );\n",
       "\n",
       "    this._canvas_extra_style(canvas_div);\n",
       "    this.root.appendChild(canvas_div);\n",
       "\n",
       "    var canvas = (this.canvas = document.createElement('canvas'));\n",
       "    canvas.classList.add('mpl-canvas');\n",
       "    canvas.setAttribute('style', 'box-sizing: content-box;');\n",
       "\n",
       "    this.context = canvas.getContext('2d');\n",
       "\n",
       "    var backingStore =\n",
       "        this.context.backingStorePixelRatio ||\n",
       "        this.context.webkitBackingStorePixelRatio ||\n",
       "        this.context.mozBackingStorePixelRatio ||\n",
       "        this.context.msBackingStorePixelRatio ||\n",
       "        this.context.oBackingStorePixelRatio ||\n",
       "        this.context.backingStorePixelRatio ||\n",
       "        1;\n",
       "\n",
       "    this.ratio = (window.devicePixelRatio || 1) / backingStore;\n",
       "\n",
       "    var rubberband_canvas = (this.rubberband_canvas = document.createElement(\n",
       "        'canvas'\n",
       "    ));\n",
       "    rubberband_canvas.setAttribute(\n",
       "        'style',\n",
       "        'box-sizing: content-box; position: absolute; left: 0; top: 0; z-index: 1;'\n",
       "    );\n",
       "\n",
       "    // Apply a ponyfill if ResizeObserver is not implemented by browser.\n",
       "    if (this.ResizeObserver === undefined) {\n",
       "        if (window.ResizeObserver !== undefined) {\n",
       "            this.ResizeObserver = window.ResizeObserver;\n",
       "        } else {\n",
       "            var obs = _JSXTOOLS_RESIZE_OBSERVER({});\n",
       "            this.ResizeObserver = obs.ResizeObserver;\n",
       "        }\n",
       "    }\n",
       "\n",
       "    this.resizeObserverInstance = new this.ResizeObserver(function (entries) {\n",
       "        var nentries = entries.length;\n",
       "        for (var i = 0; i < nentries; i++) {\n",
       "            var entry = entries[i];\n",
       "            var width, height;\n",
       "            if (entry.contentBoxSize) {\n",
       "                if (entry.contentBoxSize instanceof Array) {\n",
       "                    // Chrome 84 implements new version of spec.\n",
       "                    width = entry.contentBoxSize[0].inlineSize;\n",
       "                    height = entry.contentBoxSize[0].blockSize;\n",
       "                } else {\n",
       "                    // Firefox implements old version of spec.\n",
       "                    width = entry.contentBoxSize.inlineSize;\n",
       "                    height = entry.contentBoxSize.blockSize;\n",
       "                }\n",
       "            } else {\n",
       "                // Chrome <84 implements even older version of spec.\n",
       "                width = entry.contentRect.width;\n",
       "                height = entry.contentRect.height;\n",
       "            }\n",
       "\n",
       "            // Keep the size of the canvas and rubber band canvas in sync with\n",
       "            // the canvas container.\n",
       "            if (entry.devicePixelContentBoxSize) {\n",
       "                // Chrome 84 implements new version of spec.\n",
       "                canvas.setAttribute(\n",
       "                    'width',\n",
       "                    entry.devicePixelContentBoxSize[0].inlineSize\n",
       "                );\n",
       "                canvas.setAttribute(\n",
       "                    'height',\n",
       "                    entry.devicePixelContentBoxSize[0].blockSize\n",
       "                );\n",
       "            } else {\n",
       "                canvas.setAttribute('width', width * fig.ratio);\n",
       "                canvas.setAttribute('height', height * fig.ratio);\n",
       "            }\n",
       "            canvas.setAttribute(\n",
       "                'style',\n",
       "                'width: ' + width + 'px; height: ' + height + 'px;'\n",
       "            );\n",
       "\n",
       "            rubberband_canvas.setAttribute('width', width);\n",
       "            rubberband_canvas.setAttribute('height', height);\n",
       "\n",
       "            // And update the size in Python. We ignore the initial 0/0 size\n",
       "            // that occurs as the element is placed into the DOM, which should\n",
       "            // otherwise not happen due to the minimum size styling.\n",
       "            if (fig.ws.readyState == 1 && width != 0 && height != 0) {\n",
       "                fig.request_resize(width, height);\n",
       "            }\n",
       "        }\n",
       "    });\n",
       "    this.resizeObserverInstance.observe(canvas_div);\n",
       "\n",
       "    function on_mouse_event_closure(name) {\n",
       "        return function (event) {\n",
       "            return fig.mouse_event(event, name);\n",
       "        };\n",
       "    }\n",
       "\n",
       "    rubberband_canvas.addEventListener(\n",
       "        'mousedown',\n",
       "        on_mouse_event_closure('button_press')\n",
       "    );\n",
       "    rubberband_canvas.addEventListener(\n",
       "        'mouseup',\n",
       "        on_mouse_event_closure('button_release')\n",
       "    );\n",
       "    rubberband_canvas.addEventListener(\n",
       "        'dblclick',\n",
       "        on_mouse_event_closure('dblclick')\n",
       "    );\n",
       "    // Throttle sequential mouse events to 1 every 20ms.\n",
       "    rubberband_canvas.addEventListener(\n",
       "        'mousemove',\n",
       "        on_mouse_event_closure('motion_notify')\n",
       "    );\n",
       "\n",
       "    rubberband_canvas.addEventListener(\n",
       "        'mouseenter',\n",
       "        on_mouse_event_closure('figure_enter')\n",
       "    );\n",
       "    rubberband_canvas.addEventListener(\n",
       "        'mouseleave',\n",
       "        on_mouse_event_closure('figure_leave')\n",
       "    );\n",
       "\n",
       "    canvas_div.addEventListener('wheel', function (event) {\n",
       "        if (event.deltaY < 0) {\n",
       "            event.step = 1;\n",
       "        } else {\n",
       "            event.step = -1;\n",
       "        }\n",
       "        on_mouse_event_closure('scroll')(event);\n",
       "    });\n",
       "\n",
       "    canvas_div.appendChild(canvas);\n",
       "    canvas_div.appendChild(rubberband_canvas);\n",
       "\n",
       "    this.rubberband_context = rubberband_canvas.getContext('2d');\n",
       "    this.rubberband_context.strokeStyle = '#000000';\n",
       "\n",
       "    this._resize_canvas = function (width, height, forward) {\n",
       "        if (forward) {\n",
       "            canvas_div.style.width = width + 'px';\n",
       "            canvas_div.style.height = height + 'px';\n",
       "        }\n",
       "    };\n",
       "\n",
       "    // Disable right mouse context menu.\n",
       "    this.rubberband_canvas.addEventListener('contextmenu', function (_e) {\n",
       "        event.preventDefault();\n",
       "        return false;\n",
       "    });\n",
       "\n",
       "    function set_focus() {\n",
       "        canvas.focus();\n",
       "        canvas_div.focus();\n",
       "    }\n",
       "\n",
       "    window.setTimeout(set_focus, 100);\n",
       "};\n",
       "\n",
       "mpl.figure.prototype._init_toolbar = function () {\n",
       "    var fig = this;\n",
       "\n",
       "    var toolbar = document.createElement('div');\n",
       "    toolbar.classList = 'mpl-toolbar';\n",
       "    this.root.appendChild(toolbar);\n",
       "\n",
       "    function on_click_closure(name) {\n",
       "        return function (_event) {\n",
       "            return fig.toolbar_button_onclick(name);\n",
       "        };\n",
       "    }\n",
       "\n",
       "    function on_mouseover_closure(tooltip) {\n",
       "        return function (event) {\n",
       "            if (!event.currentTarget.disabled) {\n",
       "                return fig.toolbar_button_onmouseover(tooltip);\n",
       "            }\n",
       "        };\n",
       "    }\n",
       "\n",
       "    fig.buttons = {};\n",
       "    var buttonGroup = document.createElement('div');\n",
       "    buttonGroup.classList = 'mpl-button-group';\n",
       "    for (var toolbar_ind in mpl.toolbar_items) {\n",
       "        var name = mpl.toolbar_items[toolbar_ind][0];\n",
       "        var tooltip = mpl.toolbar_items[toolbar_ind][1];\n",
       "        var image = mpl.toolbar_items[toolbar_ind][2];\n",
       "        var method_name = mpl.toolbar_items[toolbar_ind][3];\n",
       "\n",
       "        if (!name) {\n",
       "            /* Instead of a spacer, we start a new button group. */\n",
       "            if (buttonGroup.hasChildNodes()) {\n",
       "                toolbar.appendChild(buttonGroup);\n",
       "            }\n",
       "            buttonGroup = document.createElement('div');\n",
       "            buttonGroup.classList = 'mpl-button-group';\n",
       "            continue;\n",
       "        }\n",
       "\n",
       "        var button = (fig.buttons[name] = document.createElement('button'));\n",
       "        button.classList = 'mpl-widget';\n",
       "        button.setAttribute('role', 'button');\n",
       "        button.setAttribute('aria-disabled', 'false');\n",
       "        button.addEventListener('click', on_click_closure(method_name));\n",
       "        button.addEventListener('mouseover', on_mouseover_closure(tooltip));\n",
       "\n",
       "        var icon_img = document.createElement('img');\n",
       "        icon_img.src = '_images/' + image + '.png';\n",
       "        icon_img.srcset = '_images/' + image + '_large.png 2x';\n",
       "        icon_img.alt = tooltip;\n",
       "        button.appendChild(icon_img);\n",
       "\n",
       "        buttonGroup.appendChild(button);\n",
       "    }\n",
       "\n",
       "    if (buttonGroup.hasChildNodes()) {\n",
       "        toolbar.appendChild(buttonGroup);\n",
       "    }\n",
       "\n",
       "    var fmt_picker = document.createElement('select');\n",
       "    fmt_picker.classList = 'mpl-widget';\n",
       "    toolbar.appendChild(fmt_picker);\n",
       "    this.format_dropdown = fmt_picker;\n",
       "\n",
       "    for (var ind in mpl.extensions) {\n",
       "        var fmt = mpl.extensions[ind];\n",
       "        var option = document.createElement('option');\n",
       "        option.selected = fmt === mpl.default_extension;\n",
       "        option.innerHTML = fmt;\n",
       "        fmt_picker.appendChild(option);\n",
       "    }\n",
       "\n",
       "    var status_bar = document.createElement('span');\n",
       "    status_bar.classList = 'mpl-message';\n",
       "    toolbar.appendChild(status_bar);\n",
       "    this.message = status_bar;\n",
       "};\n",
       "\n",
       "mpl.figure.prototype.request_resize = function (x_pixels, y_pixels) {\n",
       "    // Request matplotlib to resize the figure. Matplotlib will then trigger a resize in the client,\n",
       "    // which will in turn request a refresh of the image.\n",
       "    this.send_message('resize', { width: x_pixels, height: y_pixels });\n",
       "};\n",
       "\n",
       "mpl.figure.prototype.send_message = function (type, properties) {\n",
       "    properties['type'] = type;\n",
       "    properties['figure_id'] = this.id;\n",
       "    this.ws.send(JSON.stringify(properties));\n",
       "};\n",
       "\n",
       "mpl.figure.prototype.send_draw_message = function () {\n",
       "    if (!this.waiting) {\n",
       "        this.waiting = true;\n",
       "        this.ws.send(JSON.stringify({ type: 'draw', figure_id: this.id }));\n",
       "    }\n",
       "};\n",
       "\n",
       "mpl.figure.prototype.handle_save = function (fig, _msg) {\n",
       "    var format_dropdown = fig.format_dropdown;\n",
       "    var format = format_dropdown.options[format_dropdown.selectedIndex].value;\n",
       "    fig.ondownload(fig, format);\n",
       "};\n",
       "\n",
       "mpl.figure.prototype.handle_resize = function (fig, msg) {\n",
       "    var size = msg['size'];\n",
       "    if (size[0] !== fig.canvas.width || size[1] !== fig.canvas.height) {\n",
       "        fig._resize_canvas(size[0], size[1], msg['forward']);\n",
       "        fig.send_message('refresh', {});\n",
       "    }\n",
       "};\n",
       "\n",
       "mpl.figure.prototype.handle_rubberband = function (fig, msg) {\n",
       "    var x0 = msg['x0'] / fig.ratio;\n",
       "    var y0 = (fig.canvas.height - msg['y0']) / fig.ratio;\n",
       "    var x1 = msg['x1'] / fig.ratio;\n",
       "    var y1 = (fig.canvas.height - msg['y1']) / fig.ratio;\n",
       "    x0 = Math.floor(x0) + 0.5;\n",
       "    y0 = Math.floor(y0) + 0.5;\n",
       "    x1 = Math.floor(x1) + 0.5;\n",
       "    y1 = Math.floor(y1) + 0.5;\n",
       "    var min_x = Math.min(x0, x1);\n",
       "    var min_y = Math.min(y0, y1);\n",
       "    var width = Math.abs(x1 - x0);\n",
       "    var height = Math.abs(y1 - y0);\n",
       "\n",
       "    fig.rubberband_context.clearRect(\n",
       "        0,\n",
       "        0,\n",
       "        fig.canvas.width / fig.ratio,\n",
       "        fig.canvas.height / fig.ratio\n",
       "    );\n",
       "\n",
       "    fig.rubberband_context.strokeRect(min_x, min_y, width, height);\n",
       "};\n",
       "\n",
       "mpl.figure.prototype.handle_figure_label = function (fig, msg) {\n",
       "    // Updates the figure title.\n",
       "    fig.header.textContent = msg['label'];\n",
       "};\n",
       "\n",
       "mpl.figure.prototype.handle_cursor = function (fig, msg) {\n",
       "    var cursor = msg['cursor'];\n",
       "    switch (cursor) {\n",
       "        case 0:\n",
       "            cursor = 'pointer';\n",
       "            break;\n",
       "        case 1:\n",
       "            cursor = 'default';\n",
       "            break;\n",
       "        case 2:\n",
       "            cursor = 'crosshair';\n",
       "            break;\n",
       "        case 3:\n",
       "            cursor = 'move';\n",
       "            break;\n",
       "    }\n",
       "    fig.rubberband_canvas.style.cursor = cursor;\n",
       "};\n",
       "\n",
       "mpl.figure.prototype.handle_message = function (fig, msg) {\n",
       "    fig.message.textContent = msg['message'];\n",
       "};\n",
       "\n",
       "mpl.figure.prototype.handle_draw = function (fig, _msg) {\n",
       "    // Request the server to send over a new figure.\n",
       "    fig.send_draw_message();\n",
       "};\n",
       "\n",
       "mpl.figure.prototype.handle_image_mode = function (fig, msg) {\n",
       "    fig.image_mode = msg['mode'];\n",
       "};\n",
       "\n",
       "mpl.figure.prototype.handle_history_buttons = function (fig, msg) {\n",
       "    for (var key in msg) {\n",
       "        if (!(key in fig.buttons)) {\n",
       "            continue;\n",
       "        }\n",
       "        fig.buttons[key].disabled = !msg[key];\n",
       "        fig.buttons[key].setAttribute('aria-disabled', !msg[key]);\n",
       "    }\n",
       "};\n",
       "\n",
       "mpl.figure.prototype.handle_navigate_mode = function (fig, msg) {\n",
       "    if (msg['mode'] === 'PAN') {\n",
       "        fig.buttons['Pan'].classList.add('active');\n",
       "        fig.buttons['Zoom'].classList.remove('active');\n",
       "    } else if (msg['mode'] === 'ZOOM') {\n",
       "        fig.buttons['Pan'].classList.remove('active');\n",
       "        fig.buttons['Zoom'].classList.add('active');\n",
       "    } else {\n",
       "        fig.buttons['Pan'].classList.remove('active');\n",
       "        fig.buttons['Zoom'].classList.remove('active');\n",
       "    }\n",
       "};\n",
       "\n",
       "mpl.figure.prototype.updated_canvas_event = function () {\n",
       "    // Called whenever the canvas gets updated.\n",
       "    this.send_message('ack', {});\n",
       "};\n",
       "\n",
       "// A function to construct a web socket function for onmessage handling.\n",
       "// Called in the figure constructor.\n",
       "mpl.figure.prototype._make_on_message_function = function (fig) {\n",
       "    return function socket_on_message(evt) {\n",
       "        if (evt.data instanceof Blob) {\n",
       "            var img = evt.data;\n",
       "            if (img.type !== 'image/png') {\n",
       "                /* FIXME: We get \"Resource interpreted as Image but\n",
       "                 * transferred with MIME type text/plain:\" errors on\n",
       "                 * Chrome.  But how to set the MIME type?  It doesn't seem\n",
       "                 * to be part of the websocket stream */\n",
       "                img.type = 'image/png';\n",
       "            }\n",
       "\n",
       "            /* Free the memory for the previous frames */\n",
       "            if (fig.imageObj.src) {\n",
       "                (window.URL || window.webkitURL).revokeObjectURL(\n",
       "                    fig.imageObj.src\n",
       "                );\n",
       "            }\n",
       "\n",
       "            fig.imageObj.src = (window.URL || window.webkitURL).createObjectURL(\n",
       "                img\n",
       "            );\n",
       "            fig.updated_canvas_event();\n",
       "            fig.waiting = false;\n",
       "            return;\n",
       "        } else if (\n",
       "            typeof evt.data === 'string' &&\n",
       "            evt.data.slice(0, 21) === 'data:image/png;base64'\n",
       "        ) {\n",
       "            fig.imageObj.src = evt.data;\n",
       "            fig.updated_canvas_event();\n",
       "            fig.waiting = false;\n",
       "            return;\n",
       "        }\n",
       "\n",
       "        var msg = JSON.parse(evt.data);\n",
       "        var msg_type = msg['type'];\n",
       "\n",
       "        // Call the  \"handle_{type}\" callback, which takes\n",
       "        // the figure and JSON message as its only arguments.\n",
       "        try {\n",
       "            var callback = fig['handle_' + msg_type];\n",
       "        } catch (e) {\n",
       "            console.log(\n",
       "                \"No handler for the '\" + msg_type + \"' message type: \",\n",
       "                msg\n",
       "            );\n",
       "            return;\n",
       "        }\n",
       "\n",
       "        if (callback) {\n",
       "            try {\n",
       "                // console.log(\"Handling '\" + msg_type + \"' message: \", msg);\n",
       "                callback(fig, msg);\n",
       "            } catch (e) {\n",
       "                console.log(\n",
       "                    \"Exception inside the 'handler_\" + msg_type + \"' callback:\",\n",
       "                    e,\n",
       "                    e.stack,\n",
       "                    msg\n",
       "                );\n",
       "            }\n",
       "        }\n",
       "    };\n",
       "};\n",
       "\n",
       "// from http://stackoverflow.com/questions/1114465/getting-mouse-location-in-canvas\n",
       "mpl.findpos = function (e) {\n",
       "    //this section is from http://www.quirksmode.org/js/events_properties.html\n",
       "    var targ;\n",
       "    if (!e) {\n",
       "        e = window.event;\n",
       "    }\n",
       "    if (e.target) {\n",
       "        targ = e.target;\n",
       "    } else if (e.srcElement) {\n",
       "        targ = e.srcElement;\n",
       "    }\n",
       "    if (targ.nodeType === 3) {\n",
       "        // defeat Safari bug\n",
       "        targ = targ.parentNode;\n",
       "    }\n",
       "\n",
       "    // pageX,Y are the mouse positions relative to the document\n",
       "    var boundingRect = targ.getBoundingClientRect();\n",
       "    var x = e.pageX - (boundingRect.left + document.body.scrollLeft);\n",
       "    var y = e.pageY - (boundingRect.top + document.body.scrollTop);\n",
       "\n",
       "    return { x: x, y: y };\n",
       "};\n",
       "\n",
       "/*\n",
       " * return a copy of an object with only non-object keys\n",
       " * we need this to avoid circular references\n",
       " * http://stackoverflow.com/a/24161582/3208463\n",
       " */\n",
       "function simpleKeys(original) {\n",
       "    return Object.keys(original).reduce(function (obj, key) {\n",
       "        if (typeof original[key] !== 'object') {\n",
       "            obj[key] = original[key];\n",
       "        }\n",
       "        return obj;\n",
       "    }, {});\n",
       "}\n",
       "\n",
       "mpl.figure.prototype.mouse_event = function (event, name) {\n",
       "    var canvas_pos = mpl.findpos(event);\n",
       "\n",
       "    if (name === 'button_press') {\n",
       "        this.canvas.focus();\n",
       "        this.canvas_div.focus();\n",
       "    }\n",
       "\n",
       "    var x = canvas_pos.x * this.ratio;\n",
       "    var y = canvas_pos.y * this.ratio;\n",
       "\n",
       "    this.send_message(name, {\n",
       "        x: x,\n",
       "        y: y,\n",
       "        button: event.button,\n",
       "        step: event.step,\n",
       "        guiEvent: simpleKeys(event),\n",
       "    });\n",
       "\n",
       "    /* This prevents the web browser from automatically changing to\n",
       "     * the text insertion cursor when the button is pressed.  We want\n",
       "     * to control all of the cursor setting manually through the\n",
       "     * 'cursor' event from matplotlib */\n",
       "    event.preventDefault();\n",
       "    return false;\n",
       "};\n",
       "\n",
       "mpl.figure.prototype._key_event_extra = function (_event, _name) {\n",
       "    // Handle any extra behaviour associated with a key event\n",
       "};\n",
       "\n",
       "mpl.figure.prototype.key_event = function (event, name) {\n",
       "    // Prevent repeat events\n",
       "    if (name === 'key_press') {\n",
       "        if (event.key === this._key) {\n",
       "            return;\n",
       "        } else {\n",
       "            this._key = event.key;\n",
       "        }\n",
       "    }\n",
       "    if (name === 'key_release') {\n",
       "        this._key = null;\n",
       "    }\n",
       "\n",
       "    var value = '';\n",
       "    if (event.ctrlKey && event.key !== 'Control') {\n",
       "        value += 'ctrl+';\n",
       "    }\n",
       "    else if (event.altKey && event.key !== 'Alt') {\n",
       "        value += 'alt+';\n",
       "    }\n",
       "    else if (event.shiftKey && event.key !== 'Shift') {\n",
       "        value += 'shift+';\n",
       "    }\n",
       "\n",
       "    value += 'k' + event.key;\n",
       "\n",
       "    this._key_event_extra(event, name);\n",
       "\n",
       "    this.send_message(name, { key: value, guiEvent: simpleKeys(event) });\n",
       "    return false;\n",
       "};\n",
       "\n",
       "mpl.figure.prototype.toolbar_button_onclick = function (name) {\n",
       "    if (name === 'download') {\n",
       "        this.handle_save(this, null);\n",
       "    } else {\n",
       "        this.send_message('toolbar_button', { name: name });\n",
       "    }\n",
       "};\n",
       "\n",
       "mpl.figure.prototype.toolbar_button_onmouseover = function (tooltip) {\n",
       "    this.message.textContent = tooltip;\n",
       "};\n",
       "\n",
       "///////////////// REMAINING CONTENT GENERATED BY embed_js.py /////////////////\n",
       "// prettier-ignore\n",
       "var _JSXTOOLS_RESIZE_OBSERVER=function(A){var t,i=new WeakMap,n=new WeakMap,a=new WeakMap,r=new WeakMap,o=new Set;function s(e){if(!(this instanceof s))throw new TypeError(\"Constructor requires 'new' operator\");i.set(this,e)}function h(){throw new TypeError(\"Function is not a constructor\")}function c(e,t,i,n){e=0 in arguments?Number(arguments[0]):0,t=1 in arguments?Number(arguments[1]):0,i=2 in arguments?Number(arguments[2]):0,n=3 in arguments?Number(arguments[3]):0,this.right=(this.x=this.left=e)+(this.width=i),this.bottom=(this.y=this.top=t)+(this.height=n),Object.freeze(this)}function d(){t=requestAnimationFrame(d);var s=new WeakMap,p=new Set;o.forEach((function(t){r.get(t).forEach((function(i){var r=t instanceof window.SVGElement,o=a.get(t),d=r?0:parseFloat(o.paddingTop),f=r?0:parseFloat(o.paddingRight),l=r?0:parseFloat(o.paddingBottom),u=r?0:parseFloat(o.paddingLeft),g=r?0:parseFloat(o.borderTopWidth),m=r?0:parseFloat(o.borderRightWidth),w=r?0:parseFloat(o.borderBottomWidth),b=u+f,F=d+l,v=(r?0:parseFloat(o.borderLeftWidth))+m,W=g+w,y=r?0:t.offsetHeight-W-t.clientHeight,E=r?0:t.offsetWidth-v-t.clientWidth,R=b+v,z=F+W,M=r?t.width:parseFloat(o.width)-R-E,O=r?t.height:parseFloat(o.height)-z-y;if(n.has(t)){var k=n.get(t);if(k[0]===M&&k[1]===O)return}n.set(t,[M,O]);var S=Object.create(h.prototype);S.target=t,S.contentRect=new c(u,d,M,O),s.has(i)||(s.set(i,[]),p.add(i)),s.get(i).push(S)}))})),p.forEach((function(e){i.get(e).call(e,s.get(e),e)}))}return s.prototype.observe=function(i){if(i instanceof window.Element){r.has(i)||(r.set(i,new Set),o.add(i),a.set(i,window.getComputedStyle(i)));var n=r.get(i);n.has(this)||n.add(this),cancelAnimationFrame(t),t=requestAnimationFrame(d)}},s.prototype.unobserve=function(i){if(i instanceof window.Element&&r.has(i)){var n=r.get(i);n.has(this)&&(n.delete(this),n.size||(r.delete(i),o.delete(i))),n.size||r.delete(i),o.size||cancelAnimationFrame(t)}},A.DOMRectReadOnly=c,A.ResizeObserver=s,A.ResizeObserverEntry=h,A}; // eslint-disable-line\n",
       "mpl.toolbar_items = [[\"Home\", \"Reset original view\", \"fa fa-home icon-home\", \"home\"], [\"Back\", \"Back to previous view\", \"fa fa-arrow-left icon-arrow-left\", \"back\"], [\"Forward\", \"Forward to next view\", \"fa fa-arrow-right icon-arrow-right\", \"forward\"], [\"\", \"\", \"\", \"\"], [\"Pan\", \"Left button pans, Right button zooms\\nx/y fixes axis, CTRL fixes aspect\", \"fa fa-arrows icon-move\", \"pan\"], [\"Zoom\", \"Zoom to rectangle\\nx/y fixes axis, CTRL fixes aspect\", \"fa fa-square-o icon-check-empty\", \"zoom\"], [\"\", \"\", \"\", \"\"], [\"Download\", \"Download plot\", \"fa fa-floppy-o icon-save\", \"download\"]];\n",
       "\n",
       "mpl.extensions = [\"eps\", \"jpeg\", \"pgf\", \"pdf\", \"png\", \"ps\", \"raw\", \"svg\", \"tif\"];\n",
       "\n",
       "mpl.default_extension = \"png\";/* global mpl */\n",
       "\n",
       "var comm_websocket_adapter = function (comm) {\n",
       "    // Create a \"websocket\"-like object which calls the given IPython comm\n",
       "    // object with the appropriate methods. Currently this is a non binary\n",
       "    // socket, so there is still some room for performance tuning.\n",
       "    var ws = {};\n",
       "\n",
       "    ws.binaryType = comm.kernel.ws.binaryType;\n",
       "    ws.readyState = comm.kernel.ws.readyState;\n",
       "    function updateReadyState(_event) {\n",
       "        if (comm.kernel.ws) {\n",
       "            ws.readyState = comm.kernel.ws.readyState;\n",
       "        } else {\n",
       "            ws.readyState = 3; // Closed state.\n",
       "        }\n",
       "    }\n",
       "    comm.kernel.ws.addEventListener('open', updateReadyState);\n",
       "    comm.kernel.ws.addEventListener('close', updateReadyState);\n",
       "    comm.kernel.ws.addEventListener('error', updateReadyState);\n",
       "\n",
       "    ws.close = function () {\n",
       "        comm.close();\n",
       "    };\n",
       "    ws.send = function (m) {\n",
       "        //console.log('sending', m);\n",
       "        comm.send(m);\n",
       "    };\n",
       "    // Register the callback with on_msg.\n",
       "    comm.on_msg(function (msg) {\n",
       "        //console.log('receiving', msg['content']['data'], msg);\n",
       "        var data = msg['content']['data'];\n",
       "        if (data['blob'] !== undefined) {\n",
       "            data = {\n",
       "                data: new Blob(msg['buffers'], { type: data['blob'] }),\n",
       "            };\n",
       "        }\n",
       "        // Pass the mpl event to the overridden (by mpl) onmessage function.\n",
       "        ws.onmessage(data);\n",
       "    });\n",
       "    return ws;\n",
       "};\n",
       "\n",
       "mpl.mpl_figure_comm = function (comm, msg) {\n",
       "    // This is the function which gets called when the mpl process\n",
       "    // starts-up an IPython Comm through the \"matplotlib\" channel.\n",
       "\n",
       "    var id = msg.content.data.id;\n",
       "    // Get hold of the div created by the display call when the Comm\n",
       "    // socket was opened in Python.\n",
       "    var element = document.getElementById(id);\n",
       "    var ws_proxy = comm_websocket_adapter(comm);\n",
       "\n",
       "    function ondownload(figure, _format) {\n",
       "        window.open(figure.canvas.toDataURL());\n",
       "    }\n",
       "\n",
       "    var fig = new mpl.figure(id, ws_proxy, ondownload, element);\n",
       "\n",
       "    // Call onopen now - mpl needs it, as it is assuming we've passed it a real\n",
       "    // web socket which is closed, not our websocket->open comm proxy.\n",
       "    ws_proxy.onopen();\n",
       "\n",
       "    fig.parent_element = element;\n",
       "    fig.cell_info = mpl.find_output_cell(\"<div id='\" + id + \"'></div>\");\n",
       "    if (!fig.cell_info) {\n",
       "        console.error('Failed to find cell for figure', id, fig);\n",
       "        return;\n",
       "    }\n",
       "    fig.cell_info[0].output_area.element.on(\n",
       "        'cleared',\n",
       "        { fig: fig },\n",
       "        fig._remove_fig_handler\n",
       "    );\n",
       "};\n",
       "\n",
       "mpl.figure.prototype.handle_close = function (fig, msg) {\n",
       "    var width = fig.canvas.width / fig.ratio;\n",
       "    fig.cell_info[0].output_area.element.off(\n",
       "        'cleared',\n",
       "        fig._remove_fig_handler\n",
       "    );\n",
       "    fig.resizeObserverInstance.unobserve(fig.canvas_div);\n",
       "\n",
       "    // Update the output cell to use the data from the current canvas.\n",
       "    fig.push_to_output();\n",
       "    var dataURL = fig.canvas.toDataURL();\n",
       "    // Re-enable the keyboard manager in IPython - without this line, in FF,\n",
       "    // the notebook keyboard shortcuts fail.\n",
       "    IPython.keyboard_manager.enable();\n",
       "    fig.parent_element.innerHTML =\n",
       "        '<img src=\"' + dataURL + '\" width=\"' + width + '\">';\n",
       "    fig.close_ws(fig, msg);\n",
       "};\n",
       "\n",
       "mpl.figure.prototype.close_ws = function (fig, msg) {\n",
       "    fig.send_message('closing', msg);\n",
       "    // fig.ws.close()\n",
       "};\n",
       "\n",
       "mpl.figure.prototype.push_to_output = function (_remove_interactive) {\n",
       "    // Turn the data on the canvas into data in the output cell.\n",
       "    var width = this.canvas.width / this.ratio;\n",
       "    var dataURL = this.canvas.toDataURL();\n",
       "    this.cell_info[1]['text/html'] =\n",
       "        '<img src=\"' + dataURL + '\" width=\"' + width + '\">';\n",
       "};\n",
       "\n",
       "mpl.figure.prototype.updated_canvas_event = function () {\n",
       "    // Tell IPython that the notebook contents must change.\n",
       "    IPython.notebook.set_dirty(true);\n",
       "    this.send_message('ack', {});\n",
       "    var fig = this;\n",
       "    // Wait a second, then push the new image to the DOM so\n",
       "    // that it is saved nicely (might be nice to debounce this).\n",
       "    setTimeout(function () {\n",
       "        fig.push_to_output();\n",
       "    }, 1000);\n",
       "};\n",
       "\n",
       "mpl.figure.prototype._init_toolbar = function () {\n",
       "    var fig = this;\n",
       "\n",
       "    var toolbar = document.createElement('div');\n",
       "    toolbar.classList = 'btn-toolbar';\n",
       "    this.root.appendChild(toolbar);\n",
       "\n",
       "    function on_click_closure(name) {\n",
       "        return function (_event) {\n",
       "            return fig.toolbar_button_onclick(name);\n",
       "        };\n",
       "    }\n",
       "\n",
       "    function on_mouseover_closure(tooltip) {\n",
       "        return function (event) {\n",
       "            if (!event.currentTarget.disabled) {\n",
       "                return fig.toolbar_button_onmouseover(tooltip);\n",
       "            }\n",
       "        };\n",
       "    }\n",
       "\n",
       "    fig.buttons = {};\n",
       "    var buttonGroup = document.createElement('div');\n",
       "    buttonGroup.classList = 'btn-group';\n",
       "    var button;\n",
       "    for (var toolbar_ind in mpl.toolbar_items) {\n",
       "        var name = mpl.toolbar_items[toolbar_ind][0];\n",
       "        var tooltip = mpl.toolbar_items[toolbar_ind][1];\n",
       "        var image = mpl.toolbar_items[toolbar_ind][2];\n",
       "        var method_name = mpl.toolbar_items[toolbar_ind][3];\n",
       "\n",
       "        if (!name) {\n",
       "            /* Instead of a spacer, we start a new button group. */\n",
       "            if (buttonGroup.hasChildNodes()) {\n",
       "                toolbar.appendChild(buttonGroup);\n",
       "            }\n",
       "            buttonGroup = document.createElement('div');\n",
       "            buttonGroup.classList = 'btn-group';\n",
       "            continue;\n",
       "        }\n",
       "\n",
       "        button = fig.buttons[name] = document.createElement('button');\n",
       "        button.classList = 'btn btn-default';\n",
       "        button.href = '#';\n",
       "        button.title = name;\n",
       "        button.innerHTML = '<i class=\"fa ' + image + ' fa-lg\"></i>';\n",
       "        button.addEventListener('click', on_click_closure(method_name));\n",
       "        button.addEventListener('mouseover', on_mouseover_closure(tooltip));\n",
       "        buttonGroup.appendChild(button);\n",
       "    }\n",
       "\n",
       "    if (buttonGroup.hasChildNodes()) {\n",
       "        toolbar.appendChild(buttonGroup);\n",
       "    }\n",
       "\n",
       "    // Add the status bar.\n",
       "    var status_bar = document.createElement('span');\n",
       "    status_bar.classList = 'mpl-message pull-right';\n",
       "    toolbar.appendChild(status_bar);\n",
       "    this.message = status_bar;\n",
       "\n",
       "    // Add the close button to the window.\n",
       "    var buttongrp = document.createElement('div');\n",
       "    buttongrp.classList = 'btn-group inline pull-right';\n",
       "    button = document.createElement('button');\n",
       "    button.classList = 'btn btn-mini btn-primary';\n",
       "    button.href = '#';\n",
       "    button.title = 'Stop Interaction';\n",
       "    button.innerHTML = '<i class=\"fa fa-power-off icon-remove icon-large\"></i>';\n",
       "    button.addEventListener('click', function (_evt) {\n",
       "        fig.handle_close(fig, {});\n",
       "    });\n",
       "    button.addEventListener(\n",
       "        'mouseover',\n",
       "        on_mouseover_closure('Stop Interaction')\n",
       "    );\n",
       "    buttongrp.appendChild(button);\n",
       "    var titlebar = this.root.querySelector('.ui-dialog-titlebar');\n",
       "    titlebar.insertBefore(buttongrp, titlebar.firstChild);\n",
       "};\n",
       "\n",
       "mpl.figure.prototype._remove_fig_handler = function (event) {\n",
       "    var fig = event.data.fig;\n",
       "    if (event.target !== this) {\n",
       "        // Ignore bubbled events from children.\n",
       "        return;\n",
       "    }\n",
       "    fig.close_ws(fig, {});\n",
       "};\n",
       "\n",
       "mpl.figure.prototype._root_extra_style = function (el) {\n",
       "    el.style.boxSizing = 'content-box'; // override notebook setting of border-box.\n",
       "};\n",
       "\n",
       "mpl.figure.prototype._canvas_extra_style = function (el) {\n",
       "    // this is important to make the div 'focusable\n",
       "    el.setAttribute('tabindex', 0);\n",
       "    // reach out to IPython and tell the keyboard manager to turn it's self\n",
       "    // off when our div gets focus\n",
       "\n",
       "    // location in version 3\n",
       "    if (IPython.notebook.keyboard_manager) {\n",
       "        IPython.notebook.keyboard_manager.register_events(el);\n",
       "    } else {\n",
       "        // location in version 2\n",
       "        IPython.keyboard_manager.register_events(el);\n",
       "    }\n",
       "};\n",
       "\n",
       "mpl.figure.prototype._key_event_extra = function (event, _name) {\n",
       "    var manager = IPython.notebook.keyboard_manager;\n",
       "    if (!manager) {\n",
       "        manager = IPython.keyboard_manager;\n",
       "    }\n",
       "\n",
       "    // Check for shift+enter\n",
       "    if (event.shiftKey && event.which === 13) {\n",
       "        this.canvas_div.blur();\n",
       "        // select the cell after this one\n",
       "        var index = IPython.notebook.find_cell_index(this.cell_info[0]);\n",
       "        IPython.notebook.select(index + 1);\n",
       "    }\n",
       "};\n",
       "\n",
       "mpl.figure.prototype.handle_save = function (fig, _msg) {\n",
       "    fig.ondownload(fig, null);\n",
       "};\n",
       "\n",
       "mpl.find_output_cell = function (html_output) {\n",
       "    // Return the cell and output element which can be found *uniquely* in the notebook.\n",
       "    // Note - this is a bit hacky, but it is done because the \"notebook_saving.Notebook\"\n",
       "    // IPython event is triggered only after the cells have been serialised, which for\n",
       "    // our purposes (turning an active figure into a static one), is too late.\n",
       "    var cells = IPython.notebook.get_cells();\n",
       "    var ncells = cells.length;\n",
       "    for (var i = 0; i < ncells; i++) {\n",
       "        var cell = cells[i];\n",
       "        if (cell.cell_type === 'code') {\n",
       "            for (var j = 0; j < cell.output_area.outputs.length; j++) {\n",
       "                var data = cell.output_area.outputs[j];\n",
       "                if (data.data) {\n",
       "                    // IPython >= 3 moved mimebundle to data attribute of output\n",
       "                    data = data.data;\n",
       "                }\n",
       "                if (data['text/html'] === html_output) {\n",
       "                    return [cell, data, j];\n",
       "                }\n",
       "            }\n",
       "        }\n",
       "    }\n",
       "};\n",
       "\n",
       "// Register the function which deals with the matplotlib target/channel.\n",
       "// The kernel may be null if the page has been refreshed.\n",
       "if (IPython.notebook.kernel !== null) {\n",
       "    IPython.notebook.kernel.comm_manager.register_target(\n",
       "        'matplotlib',\n",
       "        mpl.mpl_figure_comm\n",
       "    );\n",
       "}\n"
      ],
      "text/plain": [
       "<IPython.core.display.Javascript object>"
      ]
     },
     "metadata": {},
     "output_type": "display_data"
    },
    {
     "data": {
      "text/html": [
       "<img src=\"data:image/png;base64,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\" width=\"640\">"
      ],
      "text/plain": [
       "<IPython.core.display.HTML object>"
      ]
     },
     "metadata": {},
     "output_type": "display_data"
    },
    {
     "data": {
      "text/plain": [
       "<BarContainer object of 8 artists>"
      ]
     },
     "execution_count": 46,
     "metadata": {},
     "output_type": "execute_result"
    }
   ],
   "source": [
    "# stacked bar charts are also possible\n",
    "plt.figure()\n",
    "xvals = range(len(linear_data))\n",
    "plt.bar(xvals, linear_data, width = 0.3, color='b')\n",
    "plt.bar(xvals, exponential_data, width = 0.3, bottom=linear_data, color='r')"
   ]
  },
  {
   "cell_type": "code",
   "execution_count": 47,
   "metadata": {},
   "outputs": [
    {
     "data": {
      "application/javascript": [
       "/* Put everything inside the global mpl namespace */\n",
       "/* global mpl */\n",
       "window.mpl = {};\n",
       "\n",
       "mpl.get_websocket_type = function () {\n",
       "    if (typeof WebSocket !== 'undefined') {\n",
       "        return WebSocket;\n",
       "    } else if (typeof MozWebSocket !== 'undefined') {\n",
       "        return MozWebSocket;\n",
       "    } else {\n",
       "        alert(\n",
       "            'Your browser does not have WebSocket support. ' +\n",
       "                'Please try Chrome, Safari or Firefox ≥ 6. ' +\n",
       "                'Firefox 4 and 5 are also supported but you ' +\n",
       "                'have to enable WebSockets in about:config.'\n",
       "        );\n",
       "    }\n",
       "};\n",
       "\n",
       "mpl.figure = function (figure_id, websocket, ondownload, parent_element) {\n",
       "    this.id = figure_id;\n",
       "\n",
       "    this.ws = websocket;\n",
       "\n",
       "    this.supports_binary = this.ws.binaryType !== undefined;\n",
       "\n",
       "    if (!this.supports_binary) {\n",
       "        var warnings = document.getElementById('mpl-warnings');\n",
       "        if (warnings) {\n",
       "            warnings.style.display = 'block';\n",
       "            warnings.textContent =\n",
       "                'This browser does not support binary websocket messages. ' +\n",
       "                'Performance may be slow.';\n",
       "        }\n",
       "    }\n",
       "\n",
       "    this.imageObj = new Image();\n",
       "\n",
       "    this.context = undefined;\n",
       "    this.message = undefined;\n",
       "    this.canvas = undefined;\n",
       "    this.rubberband_canvas = undefined;\n",
       "    this.rubberband_context = undefined;\n",
       "    this.format_dropdown = undefined;\n",
       "\n",
       "    this.image_mode = 'full';\n",
       "\n",
       "    this.root = document.createElement('div');\n",
       "    this.root.setAttribute('style', 'display: inline-block');\n",
       "    this._root_extra_style(this.root);\n",
       "\n",
       "    parent_element.appendChild(this.root);\n",
       "\n",
       "    this._init_header(this);\n",
       "    this._init_canvas(this);\n",
       "    this._init_toolbar(this);\n",
       "\n",
       "    var fig = this;\n",
       "\n",
       "    this.waiting = false;\n",
       "\n",
       "    this.ws.onopen = function () {\n",
       "        fig.send_message('supports_binary', { value: fig.supports_binary });\n",
       "        fig.send_message('send_image_mode', {});\n",
       "        if (fig.ratio !== 1) {\n",
       "            fig.send_message('set_dpi_ratio', { dpi_ratio: fig.ratio });\n",
       "        }\n",
       "        fig.send_message('refresh', {});\n",
       "    };\n",
       "\n",
       "    this.imageObj.onload = function () {\n",
       "        if (fig.image_mode === 'full') {\n",
       "            // Full images could contain transparency (where diff images\n",
       "            // almost always do), so we need to clear the canvas so that\n",
       "            // there is no ghosting.\n",
       "            fig.context.clearRect(0, 0, fig.canvas.width, fig.canvas.height);\n",
       "        }\n",
       "        fig.context.drawImage(fig.imageObj, 0, 0);\n",
       "    };\n",
       "\n",
       "    this.imageObj.onunload = function () {\n",
       "        fig.ws.close();\n",
       "    };\n",
       "\n",
       "    this.ws.onmessage = this._make_on_message_function(this);\n",
       "\n",
       "    this.ondownload = ondownload;\n",
       "};\n",
       "\n",
       "mpl.figure.prototype._init_header = function () {\n",
       "    var titlebar = document.createElement('div');\n",
       "    titlebar.classList =\n",
       "        'ui-dialog-titlebar ui-widget-header ui-corner-all ui-helper-clearfix';\n",
       "    var titletext = document.createElement('div');\n",
       "    titletext.classList = 'ui-dialog-title';\n",
       "    titletext.setAttribute(\n",
       "        'style',\n",
       "        'width: 100%; text-align: center; padding: 3px;'\n",
       "    );\n",
       "    titlebar.appendChild(titletext);\n",
       "    this.root.appendChild(titlebar);\n",
       "    this.header = titletext;\n",
       "};\n",
       "\n",
       "mpl.figure.prototype._canvas_extra_style = function (_canvas_div) {};\n",
       "\n",
       "mpl.figure.prototype._root_extra_style = function (_canvas_div) {};\n",
       "\n",
       "mpl.figure.prototype._init_canvas = function () {\n",
       "    var fig = this;\n",
       "\n",
       "    var canvas_div = (this.canvas_div = document.createElement('div'));\n",
       "    canvas_div.setAttribute(\n",
       "        'style',\n",
       "        'border: 1px solid #ddd;' +\n",
       "            'box-sizing: content-box;' +\n",
       "            'clear: both;' +\n",
       "            'min-height: 1px;' +\n",
       "            'min-width: 1px;' +\n",
       "            'outline: 0;' +\n",
       "            'overflow: hidden;' +\n",
       "            'position: relative;' +\n",
       "            'resize: both;'\n",
       "    );\n",
       "\n",
       "    function on_keyboard_event_closure(name) {\n",
       "        return function (event) {\n",
       "            return fig.key_event(event, name);\n",
       "        };\n",
       "    }\n",
       "\n",
       "    canvas_div.addEventListener(\n",
       "        'keydown',\n",
       "        on_keyboard_event_closure('key_press')\n",
       "    );\n",
       "    canvas_div.addEventListener(\n",
       "        'keyup',\n",
       "        on_keyboard_event_closure('key_release')\n",
       "    );\n",
       "\n",
       "    this._canvas_extra_style(canvas_div);\n",
       "    this.root.appendChild(canvas_div);\n",
       "\n",
       "    var canvas = (this.canvas = document.createElement('canvas'));\n",
       "    canvas.classList.add('mpl-canvas');\n",
       "    canvas.setAttribute('style', 'box-sizing: content-box;');\n",
       "\n",
       "    this.context = canvas.getContext('2d');\n",
       "\n",
       "    var backingStore =\n",
       "        this.context.backingStorePixelRatio ||\n",
       "        this.context.webkitBackingStorePixelRatio ||\n",
       "        this.context.mozBackingStorePixelRatio ||\n",
       "        this.context.msBackingStorePixelRatio ||\n",
       "        this.context.oBackingStorePixelRatio ||\n",
       "        this.context.backingStorePixelRatio ||\n",
       "        1;\n",
       "\n",
       "    this.ratio = (window.devicePixelRatio || 1) / backingStore;\n",
       "\n",
       "    var rubberband_canvas = (this.rubberband_canvas = document.createElement(\n",
       "        'canvas'\n",
       "    ));\n",
       "    rubberband_canvas.setAttribute(\n",
       "        'style',\n",
       "        'box-sizing: content-box; position: absolute; left: 0; top: 0; z-index: 1;'\n",
       "    );\n",
       "\n",
       "    // Apply a ponyfill if ResizeObserver is not implemented by browser.\n",
       "    if (this.ResizeObserver === undefined) {\n",
       "        if (window.ResizeObserver !== undefined) {\n",
       "            this.ResizeObserver = window.ResizeObserver;\n",
       "        } else {\n",
       "            var obs = _JSXTOOLS_RESIZE_OBSERVER({});\n",
       "            this.ResizeObserver = obs.ResizeObserver;\n",
       "        }\n",
       "    }\n",
       "\n",
       "    this.resizeObserverInstance = new this.ResizeObserver(function (entries) {\n",
       "        var nentries = entries.length;\n",
       "        for (var i = 0; i < nentries; i++) {\n",
       "            var entry = entries[i];\n",
       "            var width, height;\n",
       "            if (entry.contentBoxSize) {\n",
       "                if (entry.contentBoxSize instanceof Array) {\n",
       "                    // Chrome 84 implements new version of spec.\n",
       "                    width = entry.contentBoxSize[0].inlineSize;\n",
       "                    height = entry.contentBoxSize[0].blockSize;\n",
       "                } else {\n",
       "                    // Firefox implements old version of spec.\n",
       "                    width = entry.contentBoxSize.inlineSize;\n",
       "                    height = entry.contentBoxSize.blockSize;\n",
       "                }\n",
       "            } else {\n",
       "                // Chrome <84 implements even older version of spec.\n",
       "                width = entry.contentRect.width;\n",
       "                height = entry.contentRect.height;\n",
       "            }\n",
       "\n",
       "            // Keep the size of the canvas and rubber band canvas in sync with\n",
       "            // the canvas container.\n",
       "            if (entry.devicePixelContentBoxSize) {\n",
       "                // Chrome 84 implements new version of spec.\n",
       "                canvas.setAttribute(\n",
       "                    'width',\n",
       "                    entry.devicePixelContentBoxSize[0].inlineSize\n",
       "                );\n",
       "                canvas.setAttribute(\n",
       "                    'height',\n",
       "                    entry.devicePixelContentBoxSize[0].blockSize\n",
       "                );\n",
       "            } else {\n",
       "                canvas.setAttribute('width', width * fig.ratio);\n",
       "                canvas.setAttribute('height', height * fig.ratio);\n",
       "            }\n",
       "            canvas.setAttribute(\n",
       "                'style',\n",
       "                'width: ' + width + 'px; height: ' + height + 'px;'\n",
       "            );\n",
       "\n",
       "            rubberband_canvas.setAttribute('width', width);\n",
       "            rubberband_canvas.setAttribute('height', height);\n",
       "\n",
       "            // And update the size in Python. We ignore the initial 0/0 size\n",
       "            // that occurs as the element is placed into the DOM, which should\n",
       "            // otherwise not happen due to the minimum size styling.\n",
       "            if (fig.ws.readyState == 1 && width != 0 && height != 0) {\n",
       "                fig.request_resize(width, height);\n",
       "            }\n",
       "        }\n",
       "    });\n",
       "    this.resizeObserverInstance.observe(canvas_div);\n",
       "\n",
       "    function on_mouse_event_closure(name) {\n",
       "        return function (event) {\n",
       "            return fig.mouse_event(event, name);\n",
       "        };\n",
       "    }\n",
       "\n",
       "    rubberband_canvas.addEventListener(\n",
       "        'mousedown',\n",
       "        on_mouse_event_closure('button_press')\n",
       "    );\n",
       "    rubberband_canvas.addEventListener(\n",
       "        'mouseup',\n",
       "        on_mouse_event_closure('button_release')\n",
       "    );\n",
       "    rubberband_canvas.addEventListener(\n",
       "        'dblclick',\n",
       "        on_mouse_event_closure('dblclick')\n",
       "    );\n",
       "    // Throttle sequential mouse events to 1 every 20ms.\n",
       "    rubberband_canvas.addEventListener(\n",
       "        'mousemove',\n",
       "        on_mouse_event_closure('motion_notify')\n",
       "    );\n",
       "\n",
       "    rubberband_canvas.addEventListener(\n",
       "        'mouseenter',\n",
       "        on_mouse_event_closure('figure_enter')\n",
       "    );\n",
       "    rubberband_canvas.addEventListener(\n",
       "        'mouseleave',\n",
       "        on_mouse_event_closure('figure_leave')\n",
       "    );\n",
       "\n",
       "    canvas_div.addEventListener('wheel', function (event) {\n",
       "        if (event.deltaY < 0) {\n",
       "            event.step = 1;\n",
       "        } else {\n",
       "            event.step = -1;\n",
       "        }\n",
       "        on_mouse_event_closure('scroll')(event);\n",
       "    });\n",
       "\n",
       "    canvas_div.appendChild(canvas);\n",
       "    canvas_div.appendChild(rubberband_canvas);\n",
       "\n",
       "    this.rubberband_context = rubberband_canvas.getContext('2d');\n",
       "    this.rubberband_context.strokeStyle = '#000000';\n",
       "\n",
       "    this._resize_canvas = function (width, height, forward) {\n",
       "        if (forward) {\n",
       "            canvas_div.style.width = width + 'px';\n",
       "            canvas_div.style.height = height + 'px';\n",
       "        }\n",
       "    };\n",
       "\n",
       "    // Disable right mouse context menu.\n",
       "    this.rubberband_canvas.addEventListener('contextmenu', function (_e) {\n",
       "        event.preventDefault();\n",
       "        return false;\n",
       "    });\n",
       "\n",
       "    function set_focus() {\n",
       "        canvas.focus();\n",
       "        canvas_div.focus();\n",
       "    }\n",
       "\n",
       "    window.setTimeout(set_focus, 100);\n",
       "};\n",
       "\n",
       "mpl.figure.prototype._init_toolbar = function () {\n",
       "    var fig = this;\n",
       "\n",
       "    var toolbar = document.createElement('div');\n",
       "    toolbar.classList = 'mpl-toolbar';\n",
       "    this.root.appendChild(toolbar);\n",
       "\n",
       "    function on_click_closure(name) {\n",
       "        return function (_event) {\n",
       "            return fig.toolbar_button_onclick(name);\n",
       "        };\n",
       "    }\n",
       "\n",
       "    function on_mouseover_closure(tooltip) {\n",
       "        return function (event) {\n",
       "            if (!event.currentTarget.disabled) {\n",
       "                return fig.toolbar_button_onmouseover(tooltip);\n",
       "            }\n",
       "        };\n",
       "    }\n",
       "\n",
       "    fig.buttons = {};\n",
       "    var buttonGroup = document.createElement('div');\n",
       "    buttonGroup.classList = 'mpl-button-group';\n",
       "    for (var toolbar_ind in mpl.toolbar_items) {\n",
       "        var name = mpl.toolbar_items[toolbar_ind][0];\n",
       "        var tooltip = mpl.toolbar_items[toolbar_ind][1];\n",
       "        var image = mpl.toolbar_items[toolbar_ind][2];\n",
       "        var method_name = mpl.toolbar_items[toolbar_ind][3];\n",
       "\n",
       "        if (!name) {\n",
       "            /* Instead of a spacer, we start a new button group. */\n",
       "            if (buttonGroup.hasChildNodes()) {\n",
       "                toolbar.appendChild(buttonGroup);\n",
       "            }\n",
       "            buttonGroup = document.createElement('div');\n",
       "            buttonGroup.classList = 'mpl-button-group';\n",
       "            continue;\n",
       "        }\n",
       "\n",
       "        var button = (fig.buttons[name] = document.createElement('button'));\n",
       "        button.classList = 'mpl-widget';\n",
       "        button.setAttribute('role', 'button');\n",
       "        button.setAttribute('aria-disabled', 'false');\n",
       "        button.addEventListener('click', on_click_closure(method_name));\n",
       "        button.addEventListener('mouseover', on_mouseover_closure(tooltip));\n",
       "\n",
       "        var icon_img = document.createElement('img');\n",
       "        icon_img.src = '_images/' + image + '.png';\n",
       "        icon_img.srcset = '_images/' + image + '_large.png 2x';\n",
       "        icon_img.alt = tooltip;\n",
       "        button.appendChild(icon_img);\n",
       "\n",
       "        buttonGroup.appendChild(button);\n",
       "    }\n",
       "\n",
       "    if (buttonGroup.hasChildNodes()) {\n",
       "        toolbar.appendChild(buttonGroup);\n",
       "    }\n",
       "\n",
       "    var fmt_picker = document.createElement('select');\n",
       "    fmt_picker.classList = 'mpl-widget';\n",
       "    toolbar.appendChild(fmt_picker);\n",
       "    this.format_dropdown = fmt_picker;\n",
       "\n",
       "    for (var ind in mpl.extensions) {\n",
       "        var fmt = mpl.extensions[ind];\n",
       "        var option = document.createElement('option');\n",
       "        option.selected = fmt === mpl.default_extension;\n",
       "        option.innerHTML = fmt;\n",
       "        fmt_picker.appendChild(option);\n",
       "    }\n",
       "\n",
       "    var status_bar = document.createElement('span');\n",
       "    status_bar.classList = 'mpl-message';\n",
       "    toolbar.appendChild(status_bar);\n",
       "    this.message = status_bar;\n",
       "};\n",
       "\n",
       "mpl.figure.prototype.request_resize = function (x_pixels, y_pixels) {\n",
       "    // Request matplotlib to resize the figure. Matplotlib will then trigger a resize in the client,\n",
       "    // which will in turn request a refresh of the image.\n",
       "    this.send_message('resize', { width: x_pixels, height: y_pixels });\n",
       "};\n",
       "\n",
       "mpl.figure.prototype.send_message = function (type, properties) {\n",
       "    properties['type'] = type;\n",
       "    properties['figure_id'] = this.id;\n",
       "    this.ws.send(JSON.stringify(properties));\n",
       "};\n",
       "\n",
       "mpl.figure.prototype.send_draw_message = function () {\n",
       "    if (!this.waiting) {\n",
       "        this.waiting = true;\n",
       "        this.ws.send(JSON.stringify({ type: 'draw', figure_id: this.id }));\n",
       "    }\n",
       "};\n",
       "\n",
       "mpl.figure.prototype.handle_save = function (fig, _msg) {\n",
       "    var format_dropdown = fig.format_dropdown;\n",
       "    var format = format_dropdown.options[format_dropdown.selectedIndex].value;\n",
       "    fig.ondownload(fig, format);\n",
       "};\n",
       "\n",
       "mpl.figure.prototype.handle_resize = function (fig, msg) {\n",
       "    var size = msg['size'];\n",
       "    if (size[0] !== fig.canvas.width || size[1] !== fig.canvas.height) {\n",
       "        fig._resize_canvas(size[0], size[1], msg['forward']);\n",
       "        fig.send_message('refresh', {});\n",
       "    }\n",
       "};\n",
       "\n",
       "mpl.figure.prototype.handle_rubberband = function (fig, msg) {\n",
       "    var x0 = msg['x0'] / fig.ratio;\n",
       "    var y0 = (fig.canvas.height - msg['y0']) / fig.ratio;\n",
       "    var x1 = msg['x1'] / fig.ratio;\n",
       "    var y1 = (fig.canvas.height - msg['y1']) / fig.ratio;\n",
       "    x0 = Math.floor(x0) + 0.5;\n",
       "    y0 = Math.floor(y0) + 0.5;\n",
       "    x1 = Math.floor(x1) + 0.5;\n",
       "    y1 = Math.floor(y1) + 0.5;\n",
       "    var min_x = Math.min(x0, x1);\n",
       "    var min_y = Math.min(y0, y1);\n",
       "    var width = Math.abs(x1 - x0);\n",
       "    var height = Math.abs(y1 - y0);\n",
       "\n",
       "    fig.rubberband_context.clearRect(\n",
       "        0,\n",
       "        0,\n",
       "        fig.canvas.width / fig.ratio,\n",
       "        fig.canvas.height / fig.ratio\n",
       "    );\n",
       "\n",
       "    fig.rubberband_context.strokeRect(min_x, min_y, width, height);\n",
       "};\n",
       "\n",
       "mpl.figure.prototype.handle_figure_label = function (fig, msg) {\n",
       "    // Updates the figure title.\n",
       "    fig.header.textContent = msg['label'];\n",
       "};\n",
       "\n",
       "mpl.figure.prototype.handle_cursor = function (fig, msg) {\n",
       "    var cursor = msg['cursor'];\n",
       "    switch (cursor) {\n",
       "        case 0:\n",
       "            cursor = 'pointer';\n",
       "            break;\n",
       "        case 1:\n",
       "            cursor = 'default';\n",
       "            break;\n",
       "        case 2:\n",
       "            cursor = 'crosshair';\n",
       "            break;\n",
       "        case 3:\n",
       "            cursor = 'move';\n",
       "            break;\n",
       "    }\n",
       "    fig.rubberband_canvas.style.cursor = cursor;\n",
       "};\n",
       "\n",
       "mpl.figure.prototype.handle_message = function (fig, msg) {\n",
       "    fig.message.textContent = msg['message'];\n",
       "};\n",
       "\n",
       "mpl.figure.prototype.handle_draw = function (fig, _msg) {\n",
       "    // Request the server to send over a new figure.\n",
       "    fig.send_draw_message();\n",
       "};\n",
       "\n",
       "mpl.figure.prototype.handle_image_mode = function (fig, msg) {\n",
       "    fig.image_mode = msg['mode'];\n",
       "};\n",
       "\n",
       "mpl.figure.prototype.handle_history_buttons = function (fig, msg) {\n",
       "    for (var key in msg) {\n",
       "        if (!(key in fig.buttons)) {\n",
       "            continue;\n",
       "        }\n",
       "        fig.buttons[key].disabled = !msg[key];\n",
       "        fig.buttons[key].setAttribute('aria-disabled', !msg[key]);\n",
       "    }\n",
       "};\n",
       "\n",
       "mpl.figure.prototype.handle_navigate_mode = function (fig, msg) {\n",
       "    if (msg['mode'] === 'PAN') {\n",
       "        fig.buttons['Pan'].classList.add('active');\n",
       "        fig.buttons['Zoom'].classList.remove('active');\n",
       "    } else if (msg['mode'] === 'ZOOM') {\n",
       "        fig.buttons['Pan'].classList.remove('active');\n",
       "        fig.buttons['Zoom'].classList.add('active');\n",
       "    } else {\n",
       "        fig.buttons['Pan'].classList.remove('active');\n",
       "        fig.buttons['Zoom'].classList.remove('active');\n",
       "    }\n",
       "};\n",
       "\n",
       "mpl.figure.prototype.updated_canvas_event = function () {\n",
       "    // Called whenever the canvas gets updated.\n",
       "    this.send_message('ack', {});\n",
       "};\n",
       "\n",
       "// A function to construct a web socket function for onmessage handling.\n",
       "// Called in the figure constructor.\n",
       "mpl.figure.prototype._make_on_message_function = function (fig) {\n",
       "    return function socket_on_message(evt) {\n",
       "        if (evt.data instanceof Blob) {\n",
       "            var img = evt.data;\n",
       "            if (img.type !== 'image/png') {\n",
       "                /* FIXME: We get \"Resource interpreted as Image but\n",
       "                 * transferred with MIME type text/plain:\" errors on\n",
       "                 * Chrome.  But how to set the MIME type?  It doesn't seem\n",
       "                 * to be part of the websocket stream */\n",
       "                img.type = 'image/png';\n",
       "            }\n",
       "\n",
       "            /* Free the memory for the previous frames */\n",
       "            if (fig.imageObj.src) {\n",
       "                (window.URL || window.webkitURL).revokeObjectURL(\n",
       "                    fig.imageObj.src\n",
       "                );\n",
       "            }\n",
       "\n",
       "            fig.imageObj.src = (window.URL || window.webkitURL).createObjectURL(\n",
       "                img\n",
       "            );\n",
       "            fig.updated_canvas_event();\n",
       "            fig.waiting = false;\n",
       "            return;\n",
       "        } else if (\n",
       "            typeof evt.data === 'string' &&\n",
       "            evt.data.slice(0, 21) === 'data:image/png;base64'\n",
       "        ) {\n",
       "            fig.imageObj.src = evt.data;\n",
       "            fig.updated_canvas_event();\n",
       "            fig.waiting = false;\n",
       "            return;\n",
       "        }\n",
       "\n",
       "        var msg = JSON.parse(evt.data);\n",
       "        var msg_type = msg['type'];\n",
       "\n",
       "        // Call the  \"handle_{type}\" callback, which takes\n",
       "        // the figure and JSON message as its only arguments.\n",
       "        try {\n",
       "            var callback = fig['handle_' + msg_type];\n",
       "        } catch (e) {\n",
       "            console.log(\n",
       "                \"No handler for the '\" + msg_type + \"' message type: \",\n",
       "                msg\n",
       "            );\n",
       "            return;\n",
       "        }\n",
       "\n",
       "        if (callback) {\n",
       "            try {\n",
       "                // console.log(\"Handling '\" + msg_type + \"' message: \", msg);\n",
       "                callback(fig, msg);\n",
       "            } catch (e) {\n",
       "                console.log(\n",
       "                    \"Exception inside the 'handler_\" + msg_type + \"' callback:\",\n",
       "                    e,\n",
       "                    e.stack,\n",
       "                    msg\n",
       "                );\n",
       "            }\n",
       "        }\n",
       "    };\n",
       "};\n",
       "\n",
       "// from http://stackoverflow.com/questions/1114465/getting-mouse-location-in-canvas\n",
       "mpl.findpos = function (e) {\n",
       "    //this section is from http://www.quirksmode.org/js/events_properties.html\n",
       "    var targ;\n",
       "    if (!e) {\n",
       "        e = window.event;\n",
       "    }\n",
       "    if (e.target) {\n",
       "        targ = e.target;\n",
       "    } else if (e.srcElement) {\n",
       "        targ = e.srcElement;\n",
       "    }\n",
       "    if (targ.nodeType === 3) {\n",
       "        // defeat Safari bug\n",
       "        targ = targ.parentNode;\n",
       "    }\n",
       "\n",
       "    // pageX,Y are the mouse positions relative to the document\n",
       "    var boundingRect = targ.getBoundingClientRect();\n",
       "    var x = e.pageX - (boundingRect.left + document.body.scrollLeft);\n",
       "    var y = e.pageY - (boundingRect.top + document.body.scrollTop);\n",
       "\n",
       "    return { x: x, y: y };\n",
       "};\n",
       "\n",
       "/*\n",
       " * return a copy of an object with only non-object keys\n",
       " * we need this to avoid circular references\n",
       " * http://stackoverflow.com/a/24161582/3208463\n",
       " */\n",
       "function simpleKeys(original) {\n",
       "    return Object.keys(original).reduce(function (obj, key) {\n",
       "        if (typeof original[key] !== 'object') {\n",
       "            obj[key] = original[key];\n",
       "        }\n",
       "        return obj;\n",
       "    }, {});\n",
       "}\n",
       "\n",
       "mpl.figure.prototype.mouse_event = function (event, name) {\n",
       "    var canvas_pos = mpl.findpos(event);\n",
       "\n",
       "    if (name === 'button_press') {\n",
       "        this.canvas.focus();\n",
       "        this.canvas_div.focus();\n",
       "    }\n",
       "\n",
       "    var x = canvas_pos.x * this.ratio;\n",
       "    var y = canvas_pos.y * this.ratio;\n",
       "\n",
       "    this.send_message(name, {\n",
       "        x: x,\n",
       "        y: y,\n",
       "        button: event.button,\n",
       "        step: event.step,\n",
       "        guiEvent: simpleKeys(event),\n",
       "    });\n",
       "\n",
       "    /* This prevents the web browser from automatically changing to\n",
       "     * the text insertion cursor when the button is pressed.  We want\n",
       "     * to control all of the cursor setting manually through the\n",
       "     * 'cursor' event from matplotlib */\n",
       "    event.preventDefault();\n",
       "    return false;\n",
       "};\n",
       "\n",
       "mpl.figure.prototype._key_event_extra = function (_event, _name) {\n",
       "    // Handle any extra behaviour associated with a key event\n",
       "};\n",
       "\n",
       "mpl.figure.prototype.key_event = function (event, name) {\n",
       "    // Prevent repeat events\n",
       "    if (name === 'key_press') {\n",
       "        if (event.key === this._key) {\n",
       "            return;\n",
       "        } else {\n",
       "            this._key = event.key;\n",
       "        }\n",
       "    }\n",
       "    if (name === 'key_release') {\n",
       "        this._key = null;\n",
       "    }\n",
       "\n",
       "    var value = '';\n",
       "    if (event.ctrlKey && event.key !== 'Control') {\n",
       "        value += 'ctrl+';\n",
       "    }\n",
       "    else if (event.altKey && event.key !== 'Alt') {\n",
       "        value += 'alt+';\n",
       "    }\n",
       "    else if (event.shiftKey && event.key !== 'Shift') {\n",
       "        value += 'shift+';\n",
       "    }\n",
       "\n",
       "    value += 'k' + event.key;\n",
       "\n",
       "    this._key_event_extra(event, name);\n",
       "\n",
       "    this.send_message(name, { key: value, guiEvent: simpleKeys(event) });\n",
       "    return false;\n",
       "};\n",
       "\n",
       "mpl.figure.prototype.toolbar_button_onclick = function (name) {\n",
       "    if (name === 'download') {\n",
       "        this.handle_save(this, null);\n",
       "    } else {\n",
       "        this.send_message('toolbar_button', { name: name });\n",
       "    }\n",
       "};\n",
       "\n",
       "mpl.figure.prototype.toolbar_button_onmouseover = function (tooltip) {\n",
       "    this.message.textContent = tooltip;\n",
       "};\n",
       "\n",
       "///////////////// REMAINING CONTENT GENERATED BY embed_js.py /////////////////\n",
       "// prettier-ignore\n",
       "var _JSXTOOLS_RESIZE_OBSERVER=function(A){var t,i=new WeakMap,n=new WeakMap,a=new WeakMap,r=new WeakMap,o=new Set;function s(e){if(!(this instanceof s))throw new TypeError(\"Constructor requires 'new' operator\");i.set(this,e)}function h(){throw new TypeError(\"Function is not a constructor\")}function c(e,t,i,n){e=0 in arguments?Number(arguments[0]):0,t=1 in arguments?Number(arguments[1]):0,i=2 in arguments?Number(arguments[2]):0,n=3 in arguments?Number(arguments[3]):0,this.right=(this.x=this.left=e)+(this.width=i),this.bottom=(this.y=this.top=t)+(this.height=n),Object.freeze(this)}function d(){t=requestAnimationFrame(d);var s=new WeakMap,p=new Set;o.forEach((function(t){r.get(t).forEach((function(i){var r=t instanceof window.SVGElement,o=a.get(t),d=r?0:parseFloat(o.paddingTop),f=r?0:parseFloat(o.paddingRight),l=r?0:parseFloat(o.paddingBottom),u=r?0:parseFloat(o.paddingLeft),g=r?0:parseFloat(o.borderTopWidth),m=r?0:parseFloat(o.borderRightWidth),w=r?0:parseFloat(o.borderBottomWidth),b=u+f,F=d+l,v=(r?0:parseFloat(o.borderLeftWidth))+m,W=g+w,y=r?0:t.offsetHeight-W-t.clientHeight,E=r?0:t.offsetWidth-v-t.clientWidth,R=b+v,z=F+W,M=r?t.width:parseFloat(o.width)-R-E,O=r?t.height:parseFloat(o.height)-z-y;if(n.has(t)){var k=n.get(t);if(k[0]===M&&k[1]===O)return}n.set(t,[M,O]);var S=Object.create(h.prototype);S.target=t,S.contentRect=new c(u,d,M,O),s.has(i)||(s.set(i,[]),p.add(i)),s.get(i).push(S)}))})),p.forEach((function(e){i.get(e).call(e,s.get(e),e)}))}return s.prototype.observe=function(i){if(i instanceof window.Element){r.has(i)||(r.set(i,new Set),o.add(i),a.set(i,window.getComputedStyle(i)));var n=r.get(i);n.has(this)||n.add(this),cancelAnimationFrame(t),t=requestAnimationFrame(d)}},s.prototype.unobserve=function(i){if(i instanceof window.Element&&r.has(i)){var n=r.get(i);n.has(this)&&(n.delete(this),n.size||(r.delete(i),o.delete(i))),n.size||r.delete(i),o.size||cancelAnimationFrame(t)}},A.DOMRectReadOnly=c,A.ResizeObserver=s,A.ResizeObserverEntry=h,A}; // eslint-disable-line\n",
       "mpl.toolbar_items = [[\"Home\", \"Reset original view\", \"fa fa-home icon-home\", \"home\"], [\"Back\", \"Back to previous view\", \"fa fa-arrow-left icon-arrow-left\", \"back\"], [\"Forward\", \"Forward to next view\", \"fa fa-arrow-right icon-arrow-right\", \"forward\"], [\"\", \"\", \"\", \"\"], [\"Pan\", \"Left button pans, Right button zooms\\nx/y fixes axis, CTRL fixes aspect\", \"fa fa-arrows icon-move\", \"pan\"], [\"Zoom\", \"Zoom to rectangle\\nx/y fixes axis, CTRL fixes aspect\", \"fa fa-square-o icon-check-empty\", \"zoom\"], [\"\", \"\", \"\", \"\"], [\"Download\", \"Download plot\", \"fa fa-floppy-o icon-save\", \"download\"]];\n",
       "\n",
       "mpl.extensions = [\"eps\", \"jpeg\", \"pgf\", \"pdf\", \"png\", \"ps\", \"raw\", \"svg\", \"tif\"];\n",
       "\n",
       "mpl.default_extension = \"png\";/* global mpl */\n",
       "\n",
       "var comm_websocket_adapter = function (comm) {\n",
       "    // Create a \"websocket\"-like object which calls the given IPython comm\n",
       "    // object with the appropriate methods. Currently this is a non binary\n",
       "    // socket, so there is still some room for performance tuning.\n",
       "    var ws = {};\n",
       "\n",
       "    ws.binaryType = comm.kernel.ws.binaryType;\n",
       "    ws.readyState = comm.kernel.ws.readyState;\n",
       "    function updateReadyState(_event) {\n",
       "        if (comm.kernel.ws) {\n",
       "            ws.readyState = comm.kernel.ws.readyState;\n",
       "        } else {\n",
       "            ws.readyState = 3; // Closed state.\n",
       "        }\n",
       "    }\n",
       "    comm.kernel.ws.addEventListener('open', updateReadyState);\n",
       "    comm.kernel.ws.addEventListener('close', updateReadyState);\n",
       "    comm.kernel.ws.addEventListener('error', updateReadyState);\n",
       "\n",
       "    ws.close = function () {\n",
       "        comm.close();\n",
       "    };\n",
       "    ws.send = function (m) {\n",
       "        //console.log('sending', m);\n",
       "        comm.send(m);\n",
       "    };\n",
       "    // Register the callback with on_msg.\n",
       "    comm.on_msg(function (msg) {\n",
       "        //console.log('receiving', msg['content']['data'], msg);\n",
       "        var data = msg['content']['data'];\n",
       "        if (data['blob'] !== undefined) {\n",
       "            data = {\n",
       "                data: new Blob(msg['buffers'], { type: data['blob'] }),\n",
       "            };\n",
       "        }\n",
       "        // Pass the mpl event to the overridden (by mpl) onmessage function.\n",
       "        ws.onmessage(data);\n",
       "    });\n",
       "    return ws;\n",
       "};\n",
       "\n",
       "mpl.mpl_figure_comm = function (comm, msg) {\n",
       "    // This is the function which gets called when the mpl process\n",
       "    // starts-up an IPython Comm through the \"matplotlib\" channel.\n",
       "\n",
       "    var id = msg.content.data.id;\n",
       "    // Get hold of the div created by the display call when the Comm\n",
       "    // socket was opened in Python.\n",
       "    var element = document.getElementById(id);\n",
       "    var ws_proxy = comm_websocket_adapter(comm);\n",
       "\n",
       "    function ondownload(figure, _format) {\n",
       "        window.open(figure.canvas.toDataURL());\n",
       "    }\n",
       "\n",
       "    var fig = new mpl.figure(id, ws_proxy, ondownload, element);\n",
       "\n",
       "    // Call onopen now - mpl needs it, as it is assuming we've passed it a real\n",
       "    // web socket which is closed, not our websocket->open comm proxy.\n",
       "    ws_proxy.onopen();\n",
       "\n",
       "    fig.parent_element = element;\n",
       "    fig.cell_info = mpl.find_output_cell(\"<div id='\" + id + \"'></div>\");\n",
       "    if (!fig.cell_info) {\n",
       "        console.error('Failed to find cell for figure', id, fig);\n",
       "        return;\n",
       "    }\n",
       "    fig.cell_info[0].output_area.element.on(\n",
       "        'cleared',\n",
       "        { fig: fig },\n",
       "        fig._remove_fig_handler\n",
       "    );\n",
       "};\n",
       "\n",
       "mpl.figure.prototype.handle_close = function (fig, msg) {\n",
       "    var width = fig.canvas.width / fig.ratio;\n",
       "    fig.cell_info[0].output_area.element.off(\n",
       "        'cleared',\n",
       "        fig._remove_fig_handler\n",
       "    );\n",
       "    fig.resizeObserverInstance.unobserve(fig.canvas_div);\n",
       "\n",
       "    // Update the output cell to use the data from the current canvas.\n",
       "    fig.push_to_output();\n",
       "    var dataURL = fig.canvas.toDataURL();\n",
       "    // Re-enable the keyboard manager in IPython - without this line, in FF,\n",
       "    // the notebook keyboard shortcuts fail.\n",
       "    IPython.keyboard_manager.enable();\n",
       "    fig.parent_element.innerHTML =\n",
       "        '<img src=\"' + dataURL + '\" width=\"' + width + '\">';\n",
       "    fig.close_ws(fig, msg);\n",
       "};\n",
       "\n",
       "mpl.figure.prototype.close_ws = function (fig, msg) {\n",
       "    fig.send_message('closing', msg);\n",
       "    // fig.ws.close()\n",
       "};\n",
       "\n",
       "mpl.figure.prototype.push_to_output = function (_remove_interactive) {\n",
       "    // Turn the data on the canvas into data in the output cell.\n",
       "    var width = this.canvas.width / this.ratio;\n",
       "    var dataURL = this.canvas.toDataURL();\n",
       "    this.cell_info[1]['text/html'] =\n",
       "        '<img src=\"' + dataURL + '\" width=\"' + width + '\">';\n",
       "};\n",
       "\n",
       "mpl.figure.prototype.updated_canvas_event = function () {\n",
       "    // Tell IPython that the notebook contents must change.\n",
       "    IPython.notebook.set_dirty(true);\n",
       "    this.send_message('ack', {});\n",
       "    var fig = this;\n",
       "    // Wait a second, then push the new image to the DOM so\n",
       "    // that it is saved nicely (might be nice to debounce this).\n",
       "    setTimeout(function () {\n",
       "        fig.push_to_output();\n",
       "    }, 1000);\n",
       "};\n",
       "\n",
       "mpl.figure.prototype._init_toolbar = function () {\n",
       "    var fig = this;\n",
       "\n",
       "    var toolbar = document.createElement('div');\n",
       "    toolbar.classList = 'btn-toolbar';\n",
       "    this.root.appendChild(toolbar);\n",
       "\n",
       "    function on_click_closure(name) {\n",
       "        return function (_event) {\n",
       "            return fig.toolbar_button_onclick(name);\n",
       "        };\n",
       "    }\n",
       "\n",
       "    function on_mouseover_closure(tooltip) {\n",
       "        return function (event) {\n",
       "            if (!event.currentTarget.disabled) {\n",
       "                return fig.toolbar_button_onmouseover(tooltip);\n",
       "            }\n",
       "        };\n",
       "    }\n",
       "\n",
       "    fig.buttons = {};\n",
       "    var buttonGroup = document.createElement('div');\n",
       "    buttonGroup.classList = 'btn-group';\n",
       "    var button;\n",
       "    for (var toolbar_ind in mpl.toolbar_items) {\n",
       "        var name = mpl.toolbar_items[toolbar_ind][0];\n",
       "        var tooltip = mpl.toolbar_items[toolbar_ind][1];\n",
       "        var image = mpl.toolbar_items[toolbar_ind][2];\n",
       "        var method_name = mpl.toolbar_items[toolbar_ind][3];\n",
       "\n",
       "        if (!name) {\n",
       "            /* Instead of a spacer, we start a new button group. */\n",
       "            if (buttonGroup.hasChildNodes()) {\n",
       "                toolbar.appendChild(buttonGroup);\n",
       "            }\n",
       "            buttonGroup = document.createElement('div');\n",
       "            buttonGroup.classList = 'btn-group';\n",
       "            continue;\n",
       "        }\n",
       "\n",
       "        button = fig.buttons[name] = document.createElement('button');\n",
       "        button.classList = 'btn btn-default';\n",
       "        button.href = '#';\n",
       "        button.title = name;\n",
       "        button.innerHTML = '<i class=\"fa ' + image + ' fa-lg\"></i>';\n",
       "        button.addEventListener('click', on_click_closure(method_name));\n",
       "        button.addEventListener('mouseover', on_mouseover_closure(tooltip));\n",
       "        buttonGroup.appendChild(button);\n",
       "    }\n",
       "\n",
       "    if (buttonGroup.hasChildNodes()) {\n",
       "        toolbar.appendChild(buttonGroup);\n",
       "    }\n",
       "\n",
       "    // Add the status bar.\n",
       "    var status_bar = document.createElement('span');\n",
       "    status_bar.classList = 'mpl-message pull-right';\n",
       "    toolbar.appendChild(status_bar);\n",
       "    this.message = status_bar;\n",
       "\n",
       "    // Add the close button to the window.\n",
       "    var buttongrp = document.createElement('div');\n",
       "    buttongrp.classList = 'btn-group inline pull-right';\n",
       "    button = document.createElement('button');\n",
       "    button.classList = 'btn btn-mini btn-primary';\n",
       "    button.href = '#';\n",
       "    button.title = 'Stop Interaction';\n",
       "    button.innerHTML = '<i class=\"fa fa-power-off icon-remove icon-large\"></i>';\n",
       "    button.addEventListener('click', function (_evt) {\n",
       "        fig.handle_close(fig, {});\n",
       "    });\n",
       "    button.addEventListener(\n",
       "        'mouseover',\n",
       "        on_mouseover_closure('Stop Interaction')\n",
       "    );\n",
       "    buttongrp.appendChild(button);\n",
       "    var titlebar = this.root.querySelector('.ui-dialog-titlebar');\n",
       "    titlebar.insertBefore(buttongrp, titlebar.firstChild);\n",
       "};\n",
       "\n",
       "mpl.figure.prototype._remove_fig_handler = function (event) {\n",
       "    var fig = event.data.fig;\n",
       "    if (event.target !== this) {\n",
       "        // Ignore bubbled events from children.\n",
       "        return;\n",
       "    }\n",
       "    fig.close_ws(fig, {});\n",
       "};\n",
       "\n",
       "mpl.figure.prototype._root_extra_style = function (el) {\n",
       "    el.style.boxSizing = 'content-box'; // override notebook setting of border-box.\n",
       "};\n",
       "\n",
       "mpl.figure.prototype._canvas_extra_style = function (el) {\n",
       "    // this is important to make the div 'focusable\n",
       "    el.setAttribute('tabindex', 0);\n",
       "    // reach out to IPython and tell the keyboard manager to turn it's self\n",
       "    // off when our div gets focus\n",
       "\n",
       "    // location in version 3\n",
       "    if (IPython.notebook.keyboard_manager) {\n",
       "        IPython.notebook.keyboard_manager.register_events(el);\n",
       "    } else {\n",
       "        // location in version 2\n",
       "        IPython.keyboard_manager.register_events(el);\n",
       "    }\n",
       "};\n",
       "\n",
       "mpl.figure.prototype._key_event_extra = function (event, _name) {\n",
       "    var manager = IPython.notebook.keyboard_manager;\n",
       "    if (!manager) {\n",
       "        manager = IPython.keyboard_manager;\n",
       "    }\n",
       "\n",
       "    // Check for shift+enter\n",
       "    if (event.shiftKey && event.which === 13) {\n",
       "        this.canvas_div.blur();\n",
       "        // select the cell after this one\n",
       "        var index = IPython.notebook.find_cell_index(this.cell_info[0]);\n",
       "        IPython.notebook.select(index + 1);\n",
       "    }\n",
       "};\n",
       "\n",
       "mpl.figure.prototype.handle_save = function (fig, _msg) {\n",
       "    fig.ondownload(fig, null);\n",
       "};\n",
       "\n",
       "mpl.find_output_cell = function (html_output) {\n",
       "    // Return the cell and output element which can be found *uniquely* in the notebook.\n",
       "    // Note - this is a bit hacky, but it is done because the \"notebook_saving.Notebook\"\n",
       "    // IPython event is triggered only after the cells have been serialised, which for\n",
       "    // our purposes (turning an active figure into a static one), is too late.\n",
       "    var cells = IPython.notebook.get_cells();\n",
       "    var ncells = cells.length;\n",
       "    for (var i = 0; i < ncells; i++) {\n",
       "        var cell = cells[i];\n",
       "        if (cell.cell_type === 'code') {\n",
       "            for (var j = 0; j < cell.output_area.outputs.length; j++) {\n",
       "                var data = cell.output_area.outputs[j];\n",
       "                if (data.data) {\n",
       "                    // IPython >= 3 moved mimebundle to data attribute of output\n",
       "                    data = data.data;\n",
       "                }\n",
       "                if (data['text/html'] === html_output) {\n",
       "                    return [cell, data, j];\n",
       "                }\n",
       "            }\n",
       "        }\n",
       "    }\n",
       "};\n",
       "\n",
       "// Register the function which deals with the matplotlib target/channel.\n",
       "// The kernel may be null if the page has been refreshed.\n",
       "if (IPython.notebook.kernel !== null) {\n",
       "    IPython.notebook.kernel.comm_manager.register_target(\n",
       "        'matplotlib',\n",
       "        mpl.mpl_figure_comm\n",
       "    );\n",
       "}\n"
      ],
      "text/plain": [
       "<IPython.core.display.Javascript object>"
      ]
     },
     "metadata": {},
     "output_type": "display_data"
    },
    {
     "data": {
      "text/html": [
       "<img src=\"data:image/png;base64,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\" width=\"640\">"
      ],
      "text/plain": [
       "<IPython.core.display.HTML object>"
      ]
     },
     "metadata": {},
     "output_type": "display_data"
    },
    {
     "data": {
      "text/plain": [
       "<BarContainer object of 8 artists>"
      ]
     },
     "execution_count": 47,
     "metadata": {},
     "output_type": "execute_result"
    }
   ],
   "source": [
    "# or use barh for horizontal bar charts\n",
    "plt.figure()\n",
    "xvals = range(len(linear_data))\n",
    "plt.barh(xvals, linear_data, height = 0.3, color='b')\n",
    "plt.barh(xvals, exponential_data, height = 0.3, left=linear_data, color='r')"
   ]
  },
  {
   "cell_type": "code",
   "execution_count": null,
   "metadata": {},
   "outputs": [],
   "source": []
  },
  {
   "cell_type": "code",
   "execution_count": null,
   "metadata": {},
   "outputs": [],
   "source": []
  },
  {
   "cell_type": "code",
   "execution_count": null,
   "metadata": {},
   "outputs": [],
   "source": []
  },
  {
   "cell_type": "code",
   "execution_count": null,
   "metadata": {},
   "outputs": [],
   "source": []
  }
 ],
 "metadata": {
  "kernelspec": {
   "display_name": "Python 3",
   "language": "python",
   "name": "python3"
  },
  "language_info": {
   "codemirror_mode": {
    "name": "ipython",
    "version": 3
   },
   "file_extension": ".py",
   "mimetype": "text/x-python",
   "name": "python",
   "nbconvert_exporter": "python",
   "pygments_lexer": "ipython3",
   "version": "3.7.5"
  }
 },
 "nbformat": 4,
 "nbformat_minor": 1
}
